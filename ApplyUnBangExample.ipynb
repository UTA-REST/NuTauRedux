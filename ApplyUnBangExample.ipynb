{
 "cells": [
  {
   "cell_type": "code",
   "execution_count": 1,
   "metadata": {},
   "outputs": [],
   "source": [
    "from __future__ import division, print_function\n",
    "import numpy, pylab, math\n",
    "import icecube\n",
    "from icecube import dataio\n",
    "from icecube import dataclasses\n",
    "from icecube import CascadeVariables\n",
    "import os\n",
    "%matplotlib inline"
   ]
  },
  {
   "cell_type": "code",
   "execution_count": 2,
   "metadata": {
    "collapsed": true
   },
   "outputs": [],
   "source": [
    "#Set the GCD to use\n",
    "gcd=dataio.I3File(\"/data/sim/IceCube/2011/filtered/level2/neutrino-generator/10099/00000-00999/GeoCalibDetectorStatus_IC86.55697_corrected_V2.i3.gz\")\n",
    "\n",
    "#Extract geometry object\n",
    "gcd.rewind()\n",
    "fr=gcd.pop_frame()\n",
    "geo=fr.Get(\"I3Geometry\")"
   ]
  },
  {
   "cell_type": "code",
   "execution_count": 3,
   "metadata": {
    "collapsed": true
   },
   "outputs": [],
   "source": [
    "#Load files\n",
    "NFiles=100\n",
    "sigFilesI3=[]\n",
    "sigDir=\"/data/user/dxu/batch/myjobs/EHE/level4a/cc_nutau/10099/outfile_reOP/update_07122016/\"\n",
    "sigFiles=os.listdir(sigDir)\n",
    "for i in sigFiles:\n",
    "    if(i.find(\".i3.bz2\")>0):\n",
    "        sigFilesI3.append(i)\n",
    "\n",
    "sigFilesI3=sigFilesI3[0:NFiles]"
   ]
  },
  {
   "cell_type": "code",
   "execution_count": 4,
   "metadata": {},
   "outputs": [],
   "source": [
    "#Load the profiles\n",
    "import cPickle\n",
    "KernelsFile=open(\"DOMKernelsLong.dat\",'r')\n",
    "WFDictionary=cPickle.load(KernelsFile)\n",
    "\n"
   ]
  },
  {
   "cell_type": "code",
   "execution_count": 115,
   "metadata": {},
   "outputs": [
    {
     "name": "stdout",
     "output_type": "stream",
     "text": [
      "opening dp_Level4a_nugen_nutau_IC86.2011.010099.000200.i3.bz2,  1 of 100\n"
     ]
    }
   ],
   "source": [
    "#Extract the waveforms and distances\n",
    "Count=0    \n",
    "Distances=[]\n",
    "Waveforms=[]\n",
    "Energies=[]\n",
    "Times=[]\n",
    "Charges=[]\n",
    "MaxWFTimes=[]\n",
    "BinWidths=[]\n",
    "\n",
    "EnergyLimLow=5e3\n",
    "EnergyLimHigh=1e6\n",
    "\n",
    "for sgFile in sigFilesI3[0:1]:\n",
    "    Count=Count+1\n",
    "    print(\"opening \"+sgFile+\",  \"+str(Count)+\" of \" + str(len(sigFilesI3)))\n",
    "    sigFile=dataio.I3File(sigDir+sgFile)\n",
    "    sigFile.rewind()\n",
    "    while(sigFile.more()):\n",
    "        #pop a frame\n",
    "        fr=sigFile.pop_physics()\n",
    "\n",
    "        #grab the weight dict and event weight\n",
    "        WeightDict=fr.Get(\"I3MCWeightDict\")\n",
    "        Weight=(365*24*3600)*1.0e-8*pow(WeightDict[\"PrimaryNeutrinoEnergy\"], -2)*WeightDict[\"OneWeight\"]/(WeightDict[\"NEvents\"]*len(sigFilesI3))\n",
    "\n",
    "        #Find the cascade center\n",
    "        if not fr.Has(\"CascadeLlhVertexFit\") :\n",
    "            continue\n",
    "\n",
    "        if( WeightDict[\"PrimaryNeutrinoEnergy\"]<EnergyLimLow) or (WeightDict[\"PrimaryNeutrinoEnergy\"]>EnergyLimHigh):    \n",
    "            continue\n",
    "        csc=fr.Get('CascadeLlhVertexFit')\n",
    "        cscpos=csc.pos\n",
    "\n",
    "        wf=fr.Get('CalibratedWaveformsHLCATWD')\n",
    "        DistancesThisEvt=[]\n",
    "        WaveformsThisEvt=[]\n",
    "        EnergiesThisEvt=[]\n",
    "        TimesThisEvt=[]\n",
    "        ChargesThisEvt=[]\n",
    "        BinWidthsThisEvt=[]\n",
    "        for om, wf_series in wf:\n",
    "            for w in wf_series:\n",
    "                if(w.status==0):\n",
    "                    DOMPos=geo.omgeo[om].position\n",
    "                    DistancesThisEvt.append((cscpos-DOMPos).r)\n",
    "                    WaveformsThisEvt.append(w.waveform)\n",
    "                    TimesThisEvt.append(w.time)\n",
    "                    ChargesThisEvt.append(sum(w.waveform))\n",
    "                    BinWidthsThisEvt.append(w.bin_width)\n",
    "                    break\n",
    "        Energies.append(csc.energy)\n",
    "        Distances.append(DistancesThisEvt)\n",
    "        Waveforms.append(WaveformsThisEvt)\n",
    "        Charges.append(ChargesThisEvt)\n",
    "        Times.append(TimesThisEvt)\n",
    "        BinWidths.append(BinWidthsThisEvt)\n",
    "        MaxWFTimes.append(TimesThisEvt[numpy.argmax(ChargesThisEvt)])\n",
    "\n",
    "    sigFile.close()"
   ]
  },
  {
   "cell_type": "code",
   "execution_count": 116,
   "metadata": {
    "collapsed": true
   },
   "outputs": [],
   "source": [
    "#Extract the time shifts\n",
    "TimeShifts=[]\n",
    "for tindex in range(0,len(Times)):\n",
    "    StartTime=numpy.min(Times[tindex])\n",
    "    TimeShifts.append((Times[tindex]-StartTime)/BinWidths[tindex])\n",
    "    "
   ]
  },
  {
   "cell_type": "code",
   "execution_count": 117,
   "metadata": {},
   "outputs": [],
   "source": [
    "#This function applies the template matching\n",
    "def MakeTemplateMatch(Waveform,Kernel):\n",
    "    buffers=[]\n",
    "    for istart in range(len(Waveform),0,-1):\n",
    "        buff=numpy.zeros(istart)\n",
    "        thebuffer=numpy.sum(numpy.concatenate((buff,Kernel))*numpy.concatenate((Waveform,buff)))\n",
    "        buffers.append(thebuffer) \n",
    "\n",
    "    for istart in range(0,len(Waveform)):\n",
    "        buff=numpy.zeros(istart)\n",
    "        thebuffer=numpy.sum(numpy.concatenate((buff, Waveform))*numpy.concatenate((Kernel,buff)))\n",
    "        buffers.append(thebuffer) \n",
    "    return buffers"
   ]
  },
  {
   "cell_type": "code",
   "execution_count": 118,
   "metadata": {},
   "outputs": [
    {
     "name": "stdout",
     "output_type": "stream",
     "text": [
      "0\n",
      "1\n",
      "2\n",
      "3\n",
      "4\n",
      "5\n",
      "6\n",
      "7\n",
      "8\n",
      "9\n"
     ]
    },
    {
     "data": {
      "image/png": "[encoded data removed]",
      "text/plain": [
       "<matplotlib.figure.Figure at 0x4d8c890>"
      ]
     },
     "metadata": {},
     "output_type": "display_data"
    }
   ],
   "source": [
    "# Try it for a few waveforms \n",
    "DistanceLims=KernelDictionary.keys()\n",
    "WFLength=1000\n",
    "Offset=0\n",
    "todo=10\n",
    "pylab.figure(figsize=(5,5))\n",
    "\n",
    "for evt in range(0,len(Waveforms[0:todo])):\n",
    "    SumCorrel=numpy.zeros(2.*WFLength)\n",
    "    for wf in range(0,len(Waveforms[evt])):\n",
    "        Shift=int(TimeShifts[evt][wf])+Offset\n",
    "        Kernel=None\n",
    "\n",
    "\n",
    "        for dis in range(0,len(DistanceLims)-1):\n",
    "            if(DistanceLims[dis]<Distances[evt][wf] and DistanceLims[dis+1]>Distances[evt][wf]) and len(Waveforms[evt][wf])==128:\n",
    "                Kernel=WFDictionary[DistanceLims[dis]]\n",
    "                break\n",
    "        if(Kernel==None):\n",
    "            continue\n",
    "        if(Shift>WFLength):\n",
    "            continue\n",
    "\n",
    "        ToMatchWF=numpy.zeros(WFLength)\n",
    "\n",
    "        for w in range(0,min(128,(WFLength-Shift))):\n",
    "            ToMatchWF[w+Shift]+=numpy.array(Waveforms[evt][wf][w])\n",
    "        SumCorrel+=MakeTemplateMatch(ToMatchWF,Kernel)\n",
    "    print(evt)\n",
    "    peak=numpy.argmax(SumCorrel)\n",
    "    pylab.plot(range(0-peak,len(SumCorrel)-peak),SumCorrel/max(SumCorrel),label=str(int(Energies[evt]/1000)))\n",
    "    pylab.legend(loc='upper left',title='E / TeV')\n",
    "    pylab.title(\"Tau CC\")\n",
    "    pylab.xlim(-500,200)\n",
    "\n",
    "    \n"
   ]
  }
 ],
 "metadata": {
  "kernelspec": {
   "display_name": "Python 2",
   "language": "python",
   "name": "python2"
  },
  "language_info": {
   "codemirror_mode": {
    "name": "ipython",
    "version": 2
   },
   "file_extension": ".py",
   "mimetype": "text/x-python",
   "name": "python",
   "nbconvert_exporter": "python",
   "pygments_lexer": "ipython2",
   "version": "2.7.13"
  }
 },
 "nbformat": 4,
 "nbformat_minor": 1
}
