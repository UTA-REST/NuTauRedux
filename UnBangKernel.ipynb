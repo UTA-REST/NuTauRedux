{
 "cells": [
  {
   "cell_type": "code",
   "execution_count": 1,
   "metadata": {},
   "outputs": [],
   "source": [
    "from __future__ import division, print_function\n",
    "import numpy, pylab, math\n",
    "import icecube\n",
    "from icecube import dataio\n",
    "from icecube import dataclasses\n",
    "from icecube import CascadeVariables\n",
    "import os\n",
    "%matplotlib inline"
   ]
  },
  {
   "cell_type": "code",
   "execution_count": 2,
   "metadata": {},
   "outputs": [],
   "source": [
    "gcd=dataio.I3File(\"/data/sim/IceCube/2011/filtered/level2/neutrino-generator/10099/00000-00999/GeoCalibDetectorStatus_IC86.55697_corrected_V2.i3.gz\")\n"
   ]
  },
  {
   "cell_type": "code",
   "execution_count": 2,
   "metadata": {
    "collapsed": true
   },
   "outputs": [],
   "source": []
  },
  {
   "cell_type": "code",
   "execution_count": 3,
   "metadata": {},
   "outputs": [],
   "source": [
    "gcd.rewind()\n",
    "fr=gcd.pop_frame()\n",
    "geo=fr.Get(\"I3Geometry\")\n"
   ]
  },
  {
   "cell_type": "code",
   "execution_count": 3,
   "metadata": {},
   "outputs": [],
   "source": []
  },
  {
   "cell_type": "code",
   "execution_count": 4,
   "metadata": {},
   "outputs": [],
   "source": [
    "NFiles=10\n",
    "sigFilesI3=[]\n",
    "sigDir=\"/data/user/dxu/batch/myjobs/EHE/level4a/cc_nutau/10099/outfile_reOP/update_07122016/\"\n",
    "sigFiles=os.listdir(sigDir)\n",
    "for i in sigFiles:\n",
    "    if(i.find(\".i3.bz2\")>0):\n",
    "        sigFilesI3.append(i)\n",
    "\n",
    "bgFilesI3=[]\n",
    "bgDir=\"/data/user/dxu/batch/myjobs/EHE/level4a/nc_nutau/10099/outfile_reOP/update_07122016/\"\n",
    "bgFiles=os.listdir(bgDir)\n",
    "for i in bgFiles:\n",
    "    if(i.find(\".i3.bz2\")>0):\n",
    "        bgFilesI3.append(i)\n",
    "\n",
    "\n",
    "sigFilesI3=sigFilesI3[0:NFiles]\n",
    "bgFilesI3=bgFilesI3[0:NFiles]"
   ]
  },
  {
   "cell_type": "code",
   "execution_count": 5,
   "metadata": {},
   "outputs": [
    {
     "name": "stdout",
     "output_type": "stream",
     "text": [
      "opening dp_Level4a_nugen_nutau_IC86.2011.010099.000131.i3.bz2,  1 of 10\n",
      "opening dp_Level4a_nugen_nutau_IC86.2011.010099.000326.i3.bz2,  2 of 10\n",
      "opening dp_Level4a_nugen_nutau_IC86.2011.010099.000496.i3.bz2,  3 of 10\n",
      "opening dp_Level4a_nugen_nutau_IC86.2011.010099.000007.i3.bz2,  4 of 10\n",
      "opening dp_Level4a_nugen_nutau_IC86.2011.010099.000784.i3.bz2,  5 of 10\n",
      "opening dp_Level4a_nugen_nutau_IC86.2011.010099.000861.i3.bz2,  6 of 10\n",
      "opening dp_Level4a_nugen_nutau_IC86.2011.010099.000986.i3.bz2,  7 of 10\n",
      "opening dp_Level4a_nugen_nutau_IC86.2011.010099.000287.i3.bz2,  8 of 10\n",
      "opening dp_Level4a_nugen_nutau_IC86.2011.010099.000295.i3.bz2,  9 of 10\n",
      "opening dp_Level4a_nugen_nutau_IC86.2011.010099.000200.i3.bz2,  10 of 10\n"
     ]
    }
   ],
   "source": [
    "Count=0    \n",
    "NoCascadesBG=0\n",
    "Distances=[]\n",
    "Waveforms=[]\n",
    "Energies=[]\n",
    "Times=[]\n",
    "Charges=[]\n",
    "MaxWFTimes=[]\n",
    "BinWidths=[]\n",
    "\n",
    "EnergyLimLow=5e3\n",
    "EnergyLimHigh=1e6\n",
    "\n",
    "for bgFile in bgFilesI3:\n",
    "    Count=Count+1\n",
    "    print(\"opening \"+bgFile+\",  \"+str(Count)+\" of \" + str(len(bgFilesI3)))\n",
    "    bgFile=dataio.I3File(bgDir+bgFile)\n",
    "    bgFile.rewind()\n",
    "    while(bgFile.more()):\n",
    "        #pop a frame\n",
    "        fr=bgFile.pop_physics()\n",
    "\n",
    "        #grab the weight dict and event weight\n",
    "        WeightDict=fr.Get(\"I3MCWeightDict\")\n",
    "        Weight=(365*24*3600)*1.0e-8*pow(WeightDict[\"PrimaryNeutrinoEnergy\"], -2)*WeightDict[\"OneWeight\"]/(WeightDict[\"NEvents\"]*len(sigFilesI3))\n",
    "\n",
    "        #Find the cascade center\n",
    "        if not fr.Has(\"CascadeLlhVertexFit\") :\n",
    "            NoCascadesBG=NoCascadesBG+1\n",
    "            continue\n",
    "\n",
    "        if( WeightDict[\"PrimaryNeutrinoEnergy\"]<EnergyLimLow) or (WeightDict[\"PrimaryNeutrinoEnergy\"]>EnergyLimHigh):    \n",
    "            continue\n",
    "        csc=fr.Get('CascadeLlhVertexFit')\n",
    "        cscpos=csc.pos\n",
    "\n",
    "        #Get the waveforms\n",
    "#        rd=fr.Get('In')\n",
    "        wf=fr.Get('CalibratedWaveformsHLCATWD')\n",
    "        DistancesThisEvt=[]\n",
    "        WaveformsThisEvt=[]\n",
    "        EnergiesThisEvt=[]\n",
    "        TimesThisEvt=[]\n",
    "        ChargesThisEvt=[]\n",
    "        BinWidthsThisEvt=[]\n",
    "        for om, wf_series in wf:\n",
    "            for w in wf_series:\n",
    "                if(w.status==0):\n",
    "                    DOMPos=geo.omgeo[om].position\n",
    "                    DistancesThisEvt.append((cscpos-DOMPos).r)\n",
    "                    WaveformsThisEvt.append(w.waveform)\n",
    "                    TimesThisEvt.append(w.time)\n",
    "                    ChargesThisEvt.append(sum(w.waveform))\n",
    "                    BinWidthsThisEvt.append(w.bin_width)\n",
    "                    break\n",
    "            Energies.append(csc.energy)\n",
    "            Distances.append(DistancesThisEvt)\n",
    "            Waveforms.append(WaveformsThisEvt)\n",
    "            Charges.append(ChargesThisEvt)\n",
    "            Times.append(TimesThisEvt)\n",
    "            BinWidths.append(BinWidthsThisEvt)\n",
    "            MaxWFTimes.append(TimesThisEvt[numpy.argmax(ChargesThisEvt)])\n",
    "\n",
    "            "
   ]
  },
  {
   "cell_type": "code",
   "execution_count": 6,
   "metadata": {},
   "outputs": [
    {
     "name": "stdout",
     "output_type": "stream",
     "text": [
      "1000\n",
      "2000\n",
      "3000\n",
      "4000\n",
      "5000\n",
      "6000\n",
      "7000\n",
      "8000\n"
     ]
    },
    {
     "data": {
      "text/plain": [
       "[]"
      ]
     },
     "execution_count": 6,
     "metadata": {},
     "output_type": "execute_result"
    },
    {
     "data": {
      "image/png": "[encoded data removed]",
      "text/plain": [
       "<matplotlib.figure.Figure at 0x3d97b10>"
      ]
     },
     "metadata": {},
     "output_type": "display_data"
    }
   ],
   "source": [
    "wfamps=[]\n",
    "count=0\n",
    "for wfe in Waveforms:\n",
    "    count=count+1\n",
    "    if(count%1000==0):\n",
    "        print(count)\n",
    "    for wf in wfe:\n",
    "        wfamps.append(max(wf))\n",
    "pylab.hist(wfamps,bins=30)\n",
    "pylab.semilogy()"
   ]
  },
  {
   "cell_type": "code",
   "execution_count": 7,
   "metadata": {},
   "outputs": [],
   "source": [
    "TimeShifts=[]\n",
    "for tindex in range(0,len(Times)):\n",
    "    StartTime=numpy.min(Times[tindex])\n",
    "    TimeShifts.append((Times[tindex]-StartTime)/BinWidths[tindex])\n",
    "    "
   ]
  },
  {
   "cell_type": "code",
   "execution_count": 0,
   "metadata": {},
   "outputs": [],
   "source": []
  },
  {
   "cell_type": "code",
   "execution_count": 9,
   "metadata": {
    "scrolled": true
   },
   "outputs": [
    {
     "data": {
      "image/png": "[encoded data removed]",
      "text/plain": [
       "<matplotlib.figure.Figure at 0x9aa3f90>"
      ]
     },
     "metadata": {},
     "output_type": "display_data"
    }
   ],
   "source": [
    "TimesFlat=[item for sublist in Times for item in sublist]\n",
    "ChargesFlat=[item for sublist in Charges for item in sublist]\n",
    "pylab.hist(TimesFlat, weights=ChargesFlat,bins=numpy.arange(9500,11000,1))\n",
    "\n",
    "pylab.show()"
   ]
  },
  {
   "cell_type": "code",
   "execution_count": 10,
   "metadata": {},
   "outputs": [
    {
     "name": "stdout",
     "output_type": "stream",
     "text": [
      "4445 0.000510012322028\n",
      "26397 0.000892865035965\n",
      "43918 0.00043067259877\n"
     ]
    },
    {
     "ename": "KeyboardInterrupt",
     "evalue": "",
     "output_type": "error",
     "traceback": [
      "\u001b[1;31m---------------------------------------------------------------------------\u001b[0m\n\u001b[1;31mKeyboardInterrupt\u001b[0m                         Traceback (most recent call last)",
      "\u001b[1;32m<ipython-input-10-62131b931b3d>\u001b[0m in \u001b[0;36m<module>\u001b[1;34m()\u001b[0m\n\u001b[0;32m     23\u001b[0m                     \u001b[0mCharge\u001b[0m\u001b[1;33m=\u001b[0m\u001b[1;36m0\u001b[0m\u001b[1;33m\u001b[0m\u001b[0m\n\u001b[0;32m     24\u001b[0m                     \u001b[1;32mfor\u001b[0m \u001b[0mw\u001b[0m \u001b[1;32min\u001b[0m \u001b[0mrange\u001b[0m\u001b[1;33m(\u001b[0m\u001b[1;36m0\u001b[0m\u001b[1;33m,\u001b[0m\u001b[0mmin\u001b[0m\u001b[1;33m(\u001b[0m\u001b[1;36m128\u001b[0m\u001b[1;33m,\u001b[0m\u001b[1;33m(\u001b[0m\u001b[0mWFLength\u001b[0m\u001b[1;33m-\u001b[0m\u001b[0mShift\u001b[0m\u001b[1;33m)\u001b[0m\u001b[1;33m)\u001b[0m\u001b[1;33m)\u001b[0m\u001b[1;33m:\u001b[0m\u001b[1;33m\u001b[0m\u001b[0m\n\u001b[1;32m---> 25\u001b[1;33m                         \u001b[0mAveWF\u001b[0m\u001b[1;33m[\u001b[0m\u001b[0mw\u001b[0m\u001b[1;33m+\u001b[0m\u001b[0mShift\u001b[0m\u001b[1;33m]\u001b[0m\u001b[1;33m+=\u001b[0m\u001b[0mnumpy\u001b[0m\u001b[1;33m.\u001b[0m\u001b[0marray\u001b[0m\u001b[1;33m(\u001b[0m\u001b[0mWaveforms\u001b[0m\u001b[1;33m[\u001b[0m\u001b[0mi\u001b[0m\u001b[1;33m]\u001b[0m\u001b[1;33m[\u001b[0m\u001b[0mj\u001b[0m\u001b[1;33m]\u001b[0m\u001b[1;33m[\u001b[0m\u001b[0mw\u001b[0m\u001b[1;33m]\u001b[0m\u001b[1;33m)\u001b[0m\u001b[1;33m\u001b[0m\u001b[0m\n\u001b[0m\u001b[0;32m     26\u001b[0m                         \u001b[0mCharge\u001b[0m\u001b[1;33m+=\u001b[0m\u001b[0mWaveforms\u001b[0m\u001b[1;33m[\u001b[0m\u001b[0mi\u001b[0m\u001b[1;33m]\u001b[0m\u001b[1;33m[\u001b[0m\u001b[0mj\u001b[0m\u001b[1;33m]\u001b[0m\u001b[1;33m[\u001b[0m\u001b[0mw\u001b[0m\u001b[1;33m]\u001b[0m\u001b[1;33m\u001b[0m\u001b[0m\n\u001b[0;32m     27\u001b[0m                     \u001b[0mTotCharge\u001b[0m\u001b[1;33m+=\u001b[0m\u001b[0mCharge\u001b[0m\u001b[1;33m\u001b[0m\u001b[0m\n",
      "\u001b[1;31mKeyboardInterrupt\u001b[0m: "
     ]
    }
   ],
   "source": [
    "therange=numpy.arange(0,128)\n",
    "\n",
    "W_Normd=[]\n",
    "W_Sum=[]\n",
    "\n",
    "ylimlo=-40\n",
    "ylimhi=120\n",
    "\n",
    "\n",
    "DistanceLims=numpy.arange(0,250,25)\n",
    "AveWFs=[]\n",
    "for dis in range(0,len(DistanceLims)-1):\n",
    "    NWF=0\n",
    "    TotCharge=0\n",
    "    WFLength=500\n",
    "    AveWF=numpy.zeros(WFLength)\n",
    "\n",
    "    for i in range(0,len(Waveforms)):\n",
    "        for j in range(0,len(Waveforms[i])):\n",
    "            if(DistanceLims[dis]<Distances[i][j] and DistanceLims[dis+1]>Distances[i][j]) and len(Waveforms[i][j])==128:\n",
    "                Shift=int(TimeShifts[i][j])\n",
    "                if(Shift<WFLength):\n",
    "                    Charge=0\n",
    "                    for w in range(0,min(128,(WFLength-Shift))):\n",
    "                        AveWF[w+Shift]+=numpy.array(Waveforms[i][j][w])\n",
    "                        Charge+=Waveforms[i][j][w]\n",
    "                    TotCharge+=Charge\n",
    "                    NWF+=1\n",
    "    AveWFs.append(AveWF/TotCharge)\n",
    "\n",
    "    print(NWF,TotCharge)\n",
    "    \n"
   ]
  },
  {
   "cell_type": "code",
   "execution_count": null,
   "metadata": {},
   "outputs": [],
   "source": []
  },
  {
   "cell_type": "code",
   "execution_count": null,
   "metadata": {},
   "outputs": [],
   "source": [
    "pylab.figure(figsize=(5,5))\n",
    "for i in range(0,5):\n",
    "    pylab.plot(therange, AveWFs[i],label=\"{\"+str(DistanceLims[i])+\",\"+str(DistanceLims[i+1])+\"} m\")\n",
    "pylab.legend(loc='lower center',title='Distance Range',fontsize=12)\n",
    "pylab.xlabel(\"Time / ticks\")\n",
    "pylab.ylabel(\"Ave calibrated pulse\")\n",
    "pylab.xlim(0,128)\n",
    "pylab.show()\n",
    "\n",
    "pylab.figure(figsize=(5,5))\n",
    "for i in range(5,10):\n",
    "    pylab.plot(therange, AveWFs[i],label=\"{\"+str(DistanceLims[i])+\",\"+str(DistanceLims[i+1])+\"} m\")\n",
    "pylab.legend(loc='lower center',title='Distance Range',fontsize=12)\n",
    "pylab.xlim(0,128)\n",
    "pylab.xlabel(\"Time / ticks\")\n",
    "pylab.ylabel(\"Ave calibrated pulse\")\n",
    "pylab.show()\n",
    "\n",
    "pylab.figure(figsize=(5,5))\n",
    "for i in range(10,15):\n",
    "    pylab.plot(therange, AveWFs[i],label=\"{\"+str(DistanceLims[i])+\",\"+str(DistanceLims[i+1])+\"} m\")\n",
    "pylab.legend(loc='lower center',title='Distance Range',fontsize=12)\n",
    "pylab.xlim(0,128)\n",
    "pylab.xlabel(\"Time / ticks\")\n",
    "pylab.ylabel(\"Ave calibrated pulse\")\n",
    "pylab.show()\n",
    "\n",
    "pylab.figure(figsize=(5,5))\n",
    "for i in range(15,20):\n",
    "    pylab.plot(therange, AveWFs[i],label=\"{\"+str(DistanceLims[i])+\",\"+str(DistanceLims[i+1])+\"} m\")\n",
    "pylab.legend(loc='lower center',title='Distance Range',fontsize=12)\n",
    "pylab.xlim(0,128)\n",
    "pylab.xlabel(\"Time / ticks\")\n",
    "\n",
    "pylab.ylabel(\"Ave calibrated pulse\")\n",
    "pylab.show()"
   ]
  },
  {
   "cell_type": "code",
   "execution_count": null,
   "metadata": {},
   "outputs": [],
   "source": [
    "WFDictionary={}\n",
    "AveWFs[0]=AveWFs[1]\n",
    "for i in range(0, len(AveWFs)):\n",
    "    WFDictionary[DistanceLims[i]]=AveWFs[i]\n",
    "    "
   ]
  },
  {
   "cell_type": "code",
   "execution_count": null,
   "metadata": {},
   "outputs": [],
   "source": [
    "import cPickle\n",
    "KernelsFile=open(\"DOMKernelsATWD.dat\",'w')\n",
    "cPickle.dump(WFDictionary,KernelsFile)\n",
    "KernelsFile.close()"
   ]
  },
  {
   "cell_type": "code",
   "execution_count": null,
   "metadata": {},
   "outputs": [],
   "source": [
    "DonglianParams=[\"Amp1\",\"Amp2\",\"AmpTrailing\",\"BinsToT1\",\"BinsToT2\",\"BinsTbT\"]\n",
    "ValuesSI={}\n",
    "ValuesBG={}\n",
    "\n",
    "for i in DonglianParams:\n",
    "    ValuesSI[i]=[]\n",
    "    ValuesBG[i]=[]\n",
    "ValuesBG[\"weight\"]=[]\n",
    "ValuesSI[\"weight\"]=[]\n"
   ]
  },
  {
   "cell_type": "code",
   "execution_count": null,
   "metadata": {},
   "outputs": [],
   "source": [
    "Count=0\n",
    "NoCascadesSI=0\n",
    "for signalFile in sigFilesI3:\n",
    "    Count=Count+1\n",
    "    print(\"opening \"+signalFile+\",  \"+str(Count)+\" of \" + str(len(sigFilesI3)))\n",
    "    signalFile=dataio.I3File(sigDir+signalFile)\n",
    "    signalFile.rewind()\n",
    "    while(signalFile.more()):\n",
    "        fr=signalFile.pop_physics()\n",
    "        WeightDict=fr.Get(\"I3MCWeightDict\")\n",
    "        if not fr.Has(\"CascadeLlhVertexFit\"):\n",
    "            NoCascadesSI=NoCascadesSI+1\n",
    "            continue\n",
    "\n",
    "        csc=fr.Get('CascadeLlhVertexFit')\n",
    "        cscpos=csc.pos\n",
    "        Weight=(365*24*3600)*1.0e-8*pow(WeightDict[\"PrimaryNeutrinoEnergy\"], -2)*WeightDict[\"OneWeight\"]/(WeightDict[\"NEvents\"]*len(sigFilesI3))\n",
    "        if fr==None:\n",
    "            break\n",
    "        OMs=fr.Get(\"DP_OMs\")\n",
    "        for c in range(0,len(OMs)):\n",
    "            o=OMs[c]\n",
    "            DOMPos=geo.omgeo[o].position\n",
    "            if((DOMPos-cscpos).r<75):\n",
    "                for i in DonglianParams:\n",
    "                    ValuesSI[i].append(fr.Get(i)[c])\n",
    "                ValuesSI[\"weight\"].append(Weight)"
   ]
  },
  {
   "cell_type": "code",
   "execution_count": null,
   "metadata": {},
   "outputs": [],
   "source": [
    "\n",
    "Count=0    \n",
    "NoCascadesBG=0\n",
    "for bgFile in bgFilesI3:\n",
    "    Count=Count+1\n",
    "    print(\"opening \"+bgFile+\",  \"+str(Count)+\" of \" + str(len(bgFilesI3)))\n",
    "    bgFile=dataio.I3File(bgDir+bgFile)\n",
    "    bgFile.rewind()\n",
    "    while(bgFile.more()):\n",
    "        fr=bgFile.pop_physics()\n",
    "        WeightDict=fr.Get(\"I3MCWeightDict\")\n",
    "        if not fr.Has(\"CascadeLlhVertexFit\"):\n",
    "            NoCascadesBG=NoCascadesBG+1\n",
    "            continue\n",
    "        csc=fr.Get('CascadeLlhVertexFit')\n",
    "        cscpos=csc.pos\n",
    "        Weight=(365*24*3600)*1.0e-8*pow(WeightDict[\"PrimaryNeutrinoEnergy\"], -2)*WeightDict[\"OneWeight\"]/(WeightDict[\"NEvents\"]*len(sigFilesI3))\n",
    "        if fr==None:\n",
    "            break\n",
    "        OMs=fr.Get(\"DP_OMs\")\n",
    "        for c in range(0,len(OMs)):\n",
    "            o=OMs[c]\n",
    "            DOMPos=geo.omgeo[o].position\n",
    "            if((DOMPos-cscpos).r<150):\n",
    "                for i in DonglianParams:\n",
    "                    ValuesBG[i].append(fr.Get(i)[c])\n",
    "                ValuesBG[\"weight\"].append(Weight)\n"
   ]
  },
  {
   "cell_type": "code",
   "execution_count": null,
   "metadata": {},
   "outputs": [],
   "source": [
    "pylab.figure(figsize=(5,5))\n",
    "\n",
    "MaxAmp1SI=[]\n",
    "MaxAmp1BG=[]\n",
    "for i in ValuesSI[\"Amp1\"]:\n",
    "    MaxAmp1SI.append(numpy.max(i))\n",
    "for i in ValuesBG[\"Amp1\"]:\n",
    "    MaxAmp1BG.append(numpy.max(i))\n",
    "\n",
    "\n",
    "\n",
    "pylab.hist(MaxAmp1BG,weights=ValuesBG[\"weight\"],histtype='step',color='red')\n",
    "pylab.hist(MaxAmp1SI,weights=ValuesSI[\"weight\"],histtype='step',color='blue')\n",
    "pylab.ylim(1e-1,1e4)\n",
    "pylab.semilogy()\n",
    "pylab.show()\n",
    "\n",
    "\n"
   ]
  },
  {
   "cell_type": "code",
   "execution_count": null,
   "metadata": {},
   "outputs": [],
   "source": [
    "FlattenedSI={}\n",
    "FlattenedBG={}\n",
    "\n",
    "for i in DonglianParams:\n",
    "    FlattenedSI[i]=[]\n",
    "    for j in ValuesSI[i]:\n",
    "        FlattenedSI[i]+=j\n",
    "FlattenedSI[\"weights\"]=[]\n",
    "for j in ValuesSI[\"Amp1\"]:\n",
    "    Weights=numpy.ones_like(j).tolist()\n",
    "    FlattenedSI[\"weights\"]+=Weights\n",
    "\n",
    "        \n",
    "for i in DonglianParams:\n",
    "    FlattenedBG[i]=[]\n",
    "    for j in ValuesBG[i]:\n",
    "        FlattenedBG[i]+=j\n",
    "FlattenedBG[\"weights\"]=[]\n",
    "for j in ValuesBG[\"Amp1\"]:\n",
    "    Weights=numpy.ones_like(j).tolist()\n",
    "    FlattenedBG[\"weights\"]+=Weights\n",
    "\n"
   ]
  },
  {
   "cell_type": "code",
   "execution_count": null,
   "metadata": {},
   "outputs": [],
   "source": [
    "pylab.hist(numpy.array(FlattenedSI[\"Amp1\"])/numpy.array(FlattenedSI[\"Amp2\"]),weights=FlattenedSI[\"weights\"],histtype='step',bins=numpy.logspace(-15,15,10))\n",
    "pylab.hist(numpy.array(FlattenedBG[\"Amp1\"])/numpy.array(FlattenedBG[\"Amp2\"]),weights=FlattenedBG[\"weights\"],histtype='step',bins=numpy.logspace(-15,15,10))\n",
    "pylab.loglog()"
   ]
  },
  {
   "cell_type": "code",
   "execution_count": null,
   "metadata": {},
   "outputs": [],
   "source": []
  },
  {
   "cell_type": "code",
   "execution_count": null,
   "metadata": {},
   "outputs": [],
   "source": [
    "csc.pos.x"
   ]
  },
  {
   "cell_type": "code",
   "execution_count": null,
   "metadata": {},
   "outputs": [],
   "source": [
    "for i in DonglianParams:\n",
    "    f, axarr = pylab.subplots(1, 2,figsize=(10,5))\n",
    "    print(i)\n",
    "    h1,bins,non=axarr[0].hist(FlattenedSI[i],weights=FlattenedSI[\"weights\"],bins=50,histtype='step')\n",
    "    h2,bins,non=axarr[0].hist(FlattenedBG[i],weights=FlattenedBG[\"weights\"],bins=bins,histtype='step')\n",
    "    axarr[0].semilogy()\n",
    "    axarr[1].plot(bins[:-1],numpy.array(h2)/numpy.array(h1),'.',color='red')\n",
    "    axarr[0].set_xlabel(i)\n",
    "    axarr[0].set_ylabel(\"count\")\n",
    "    axarr[1].set_xlabel(i)\n",
    "    axarr[1].set_ylabel(\"ratio, BG/SIG\")\n",
    "\n",
    "    pylab.show()\n",
    "\n",
    "#    pylab.show()\n",
    "#    print(i, min(FlattenedBG[i]),max(FlattenedBG[i]))"
   ]
  },
  {
   "cell_type": "code",
   "execution_count": null,
   "metadata": {},
   "outputs": [],
   "source": [
    "ret[]"
   ]
  },
  {
   "cell_type": "code",
   "execution_count": null,
   "metadata": {},
   "outputs": [],
   "source": [
    "for i in DonglianParams:\n",
    "    f, axarr = pylab.subplots(1, 2,figsize=(10,5))\n",
    "    print(i)\n",
    "    h1,bins,non=axarr[0].hist(ValuesSI[i],weights=numpy.array(ValuesSI[\"weight\"])/sum(ValuesSI[\"weight\"]),bins=500,histtype='step',cumulative=True)\n",
    "    h2,bins,non=axarr[0].hist(ValuesBG[i],weights=numpy.array(ValuesBG[\"weight\"])/sum(ValuesBG[\"weight\"]),bins=bins,histtype='step',cumulative=True)\n",
    "#    axarr[0].semilogx()\n",
    "    axarr[1].plot(bins[:-1],numpy.array(h2)/numpy.array(h1),'.',color='red')\n",
    "    axarr[0].set_xlabel(i)\n",
    "    axarr[0].set_ylabel(\"count\")\n",
    "    axarr[1].set_xlabel(i)\n",
    "    axarr[1].set_ylabel(\"ratio, BG/SIG\")\n",
    "    pylab.show()\n",
    "    f, axarr = pylab.subplots(1, 2,figsize=(10,5))\n",
    "    print(i)\n",
    "    h1,bins,non=axarr[0].hist(ValuesSI[i],weights=numpy.array(ValuesSI[\"weight\"])/sum(ValuesSI[\"weight\"]),bins=500,histtype='step',cumulative=-1)\n",
    "    h2,bins,non=axarr[0].hist(ValuesBG[i],weights=numpy.array(ValuesBG[\"weight\"])/sum(ValuesBG[\"weight\"]),bins=bins,histtype='step',cumulative=-1)\n",
    "#    axarr[0].semilogx()\n",
    "    axarr[1].plot(bins[:-1],numpy.array(h2)/numpy.array(h1),'.',color='red')\n",
    "    axarr[0].set_xlabel(i)\n",
    "    axarr[0].set_ylabel(\"count\")\n",
    "    axarr[1].set_xlabel(i)\n",
    "    axarr[1].set_ylabel(\"ratio, BG/SIG\")\n",
    "    pylab.show()"
   ]
  },
  {
   "cell_type": "code",
   "execution_count": null,
   "metadata": {},
   "outputs": [],
   "source": []
  },
  {
   "cell_type": "code",
   "execution_count": null,
   "metadata": {},
   "outputs": [],
   "source": []
  },
  {
   "cell_type": "code",
   "execution_count": null,
   "metadata": {
    "collapsed": true
   },
   "outputs": [],
   "source": []
  }
 ],
 "metadata": {
  "kernelspec": {
   "display_name": "Python 2",
   "language": "python",
   "name": "python2"
  },
  "language_info": {
   "codemirror_mode": {
    "name": "ipython",
    "version": 2
   },
   "file_extension": ".py",
   "mimetype": "text/x-python",
   "name": "python",
   "nbconvert_exporter": "python",
   "pygments_lexer": "ipython2",
   "version": "2.7.13"
  }
 },
 "nbformat": 4,
 "nbformat_minor": 1
}
