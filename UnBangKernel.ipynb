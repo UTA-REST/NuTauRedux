{
 "cells": [
  {
   "cell_type": "code",
   "execution_count": 1,
   "metadata": {
    "collapsed": true
   },
   "outputs": [],
   "source": [
    "from __future__ import division, print_function\n",
    "import numpy, pylab, math\n",
    "import icecube\n",
    "from icecube import dataio\n",
    "from icecube import dataclasses\n",
    "from icecube import CascadeVariables\n",
    "import os\n",
    "%matplotlib inline"
   ]
  },
  {
   "cell_type": "code",
   "execution_count": 2,
   "metadata": {
    "collapsed": true
   },
   "outputs": [],
   "source": [
    "gcd=dataio.I3File(\"/data/sim/IceCube/2011/filtered/level2/neutrino-generator/10099/00000-00999/GeoCalibDetectorStatus_IC86.55697_corrected_V2.i3.gz\")\n"
   ]
  },
  {
   "cell_type": "code",
   "execution_count": null,
   "metadata": {
    "collapsed": true
   },
   "outputs": [],
   "source": [
    "\n"
   ]
  },
  {
   "cell_type": "code",
   "execution_count": 3,
   "metadata": {
    "collapsed": true
   },
   "outputs": [],
   "source": [
    "gcd.rewind()\n",
    "fr=gcd.pop_frame()\n",
    "geo=fr.Get(\"I3Geometry\")\n"
   ]
  },
  {
   "cell_type": "code",
   "execution_count": null,
   "metadata": {
    "collapsed": true
   },
   "outputs": [],
   "source": []
  },
  {
   "cell_type": "code",
   "execution_count": 9,
   "metadata": {
    "collapsed": false
   },
   "outputs": [],
   "source": [
    "NFiles=1\n",
    "bgFilesI3=[]\n",
    "bgDir=\"/data/user/lwille/dat/2013NuTauComparison/\"\n",
    "\n",
    "bgFiles=os.listdir(bgDir)\n",
    "for i in bgFiles:\n",
    "    if(i.find(\".i3.bz2\")>0):\n",
    "        bgFilesI3.append(i)\n",
    "\n",
    "\n",
    "bgFilesI3=bgFilesI3[0:NFiles]"
   ]
  },
  {
   "cell_type": "code",
   "execution_count": 12,
   "metadata": {
    "collapsed": false
   },
   "outputs": [
    {
     "name": "stdout",
     "output_type": "stream",
     "text": [
      "opening l4_000601-000700.i3.bz2,  1 of 1\n",
      "100\n",
      "200\n",
      "300\n",
      "400\n",
      "500\n",
      "600\n",
      "700\n",
      "800\n",
      "900\n",
      "1000\n",
      "1100\n"
     ]
    }
   ],
   "source": [
    "Count=0    \n",
    "NoCascadesBG=0\n",
    "Distances=[]\n",
    "Waveforms=[]\n",
    "Energies=[]\n",
    "Times=[]\n",
    "Charges=[]\n",
    "MaxWFTimes=[]\n",
    "BinWidths=[]\n",
    "\n",
    "EnergyLimLow=5e3\n",
    "EnergyLimHigh=1e6\n",
    "\n",
    "for bgFile in bgFilesI3:\n",
    "    Count=Count+1\n",
    "    print(\"opening \"+bgFile+\",  \"+str(Count)+\" of \" + str(len(bgFilesI3)))\n",
    "    bgFile=dataio.I3File(bgDir+bgFile)\n",
    "    bgFile.rewind()\n",
    "    numevents=0\n",
    "    while(bgFile.more()):\n",
    "        #pop a frame\n",
    "        numevents=numevents+1\n",
    "        if(numevents%100==0):\n",
    "            print(numevents)\n",
    "        fr=bgFile.pop_physics()\n",
    "\n",
    "        #grab the weight dict and event weight\n",
    "        WeightDict=fr.Get(\"I3MCWeightDict\")\n",
    "        Weight=(365*24*3600)*1.0e-8*pow(WeightDict[\"PrimaryNeutrinoEnergy\"], -2)*WeightDict[\"OneWeight\"]/(WeightDict[\"NEvents\"]*len(bgFilesI3))\n",
    "\n",
    "        #Find the cascade center\n",
    "        if not fr.Has(\"CascadeLlhVertexFit\") :\n",
    "            NoCascadesBG=NoCascadesBG+1\n",
    "            continue\n",
    "\n",
    "        if( WeightDict[\"PrimaryNeutrinoEnergy\"]<EnergyLimLow) or (WeightDict[\"PrimaryNeutrinoEnergy\"]>EnergyLimHigh):    \n",
    "            continue\n",
    "        csc=fr.Get('CascadeLlhVertexFit')\n",
    "        cscpos=csc.pos\n",
    "\n",
    "        #Get the waveforms\n",
    "#        rd=fr.Get('In')\n",
    "        wf=fr.Get('CalibratedWaveformsHLCATWD')\n",
    "        DistancesThisEvt=[]\n",
    "        WaveformsThisEvt=[]\n",
    "        EnergiesThisEvt=[]\n",
    "        TimesThisEvt=[]\n",
    "        ChargesThisEvt=[]\n",
    "        BinWidthsThisEvt=[]\n",
    "        for om, wf_series in wf:\n",
    "            for w in wf_series:\n",
    "                if(w.status==0):\n",
    "                    DOMPos=geo.omgeo[om].position\n",
    "                    DistancesThisEvt.append((cscpos-DOMPos).r)\n",
    "                    WaveformsThisEvt.append(w.waveform)\n",
    "                    TimesThisEvt.append(w.time)\n",
    "                    ChargesThisEvt.append(sum(w.waveform))\n",
    "                    BinWidthsThisEvt.append(w.bin_width)\n",
    "                    break\n",
    "            Energies.append(csc.energy)\n",
    "            Distances.append(DistancesThisEvt)\n",
    "            Waveforms.append(WaveformsThisEvt)\n",
    "            Charges.append(ChargesThisEvt)\n",
    "            Times.append(TimesThisEvt)\n",
    "            BinWidths.append(BinWidthsThisEvt)\n",
    "            MaxWFTimes.append(TimesThisEvt[numpy.argmax(ChargesThisEvt)])\n",
    "\n",
    "            "
   ]
  },
  {
   "cell_type": "code",
   "execution_count": 22,
   "metadata": {
    "collapsed": false
   },
   "outputs": [
    {
     "ename": "AttributeError",
     "evalue": "'I3File' object has no attribute 'keys'",
     "output_type": "error",
     "traceback": [
      "\u001b[1;31m---------------------------------------------------------------------------\u001b[0m",
      "\u001b[1;31mAttributeError\u001b[0m                            Traceback (most recent call last)",
      "\u001b[1;32m<ipython-input-22-842e78bd69e9>\u001b[0m in \u001b[0;36m<module>\u001b[1;34m()\u001b[0m\n\u001b[0;32m      2\u001b[0m \u001b[0mbgFile\u001b[0m\u001b[1;33m=\u001b[0m\u001b[0mdataio\u001b[0m\u001b[1;33m.\u001b[0m\u001b[0mI3File\u001b[0m\u001b[1;33m(\u001b[0m\u001b[0mbgDir\u001b[0m\u001b[1;33m+\u001b[0m\u001b[0mbgFileName\u001b[0m\u001b[1;33m)\u001b[0m\u001b[1;33m\u001b[0m\u001b[0m\n\u001b[0;32m      3\u001b[0m \u001b[0mfr\u001b[0m\u001b[1;33m=\u001b[0m\u001b[0mbgFile\u001b[0m\u001b[1;33m.\u001b[0m\u001b[0mpop_physics\u001b[0m\u001b[1;33m(\u001b[0m\u001b[1;33m)\u001b[0m\u001b[1;33m\u001b[0m\u001b[0m\n\u001b[1;32m----> 4\u001b[1;33m \u001b[0mbgFile\u001b[0m\u001b[1;33m.\u001b[0m\u001b[0mkeys\u001b[0m\u001b[1;33m(\u001b[0m\u001b[1;33m)\u001b[0m\u001b[1;33m\u001b[0m\u001b[0m\n\u001b[0m",
      "\u001b[1;31mAttributeError\u001b[0m: 'I3File' object has no attribute 'keys'"
     ]
    }
   ],
   "source": [
    "bgFileName=bgFilesI3[0]\n",
    "bgFile=dataio.I3File(bgDir+bgFileName)\n",
    "fr=bgFile.pop_physics()\n"
   ]
  },
  {
   "cell_type": "code",
   "execution_count": 30,
   "metadata": {
    "collapsed": false
   },
   "outputs": [
    {
     "ename": "SyntaxError",
     "evalue": "invalid syntax (<ipython-input-30-4c61beb81da3>, line 1)",
     "output_type": "error",
     "traceback": [
      "\u001b[1;36m  File \u001b[1;32m\"<ipython-input-30-4c61beb81da3>\"\u001b[1;36m, line \u001b[1;32m1\u001b[0m\n\u001b[1;33m    if(\"Cascade\" in i) print i for i in fr.keys()\u001b[0m\n\u001b[1;37m                           ^\u001b[0m\n\u001b[1;31mSyntaxError\u001b[0m\u001b[1;31m:\u001b[0m invalid syntax\n"
     ]
    }
   ],
   "source": [
    "if(\"Cascade\" in i)"
   ]
  },
  {
   "cell_type": "code",
   "execution_count": 13,
   "metadata": {
    "collapsed": false
   },
   "outputs": [
    {
     "ename": "ValueError",
     "evalue": "x must have at least one data point",
     "output_type": "error",
     "traceback": [
      "\u001b[1;31m---------------------------------------------------------------------------\u001b[0m",
      "\u001b[1;31mValueError\u001b[0m                                Traceback (most recent call last)",
      "\u001b[1;32m<ipython-input-13-e60846d37827>\u001b[0m in \u001b[0;36m<module>\u001b[1;34m()\u001b[0m\n\u001b[0;32m      7\u001b[0m     \u001b[1;32mfor\u001b[0m \u001b[0mwf\u001b[0m \u001b[1;32min\u001b[0m \u001b[0mwfe\u001b[0m\u001b[1;33m:\u001b[0m\u001b[1;33m\u001b[0m\u001b[0m\n\u001b[0;32m      8\u001b[0m         \u001b[0mwfamps\u001b[0m\u001b[1;33m.\u001b[0m\u001b[0mappend\u001b[0m\u001b[1;33m(\u001b[0m\u001b[0mmax\u001b[0m\u001b[1;33m(\u001b[0m\u001b[0mwf\u001b[0m\u001b[1;33m)\u001b[0m\u001b[1;33m)\u001b[0m\u001b[1;33m\u001b[0m\u001b[0m\n\u001b[1;32m----> 9\u001b[1;33m \u001b[0mpylab\u001b[0m\u001b[1;33m.\u001b[0m\u001b[0mhist\u001b[0m\u001b[1;33m(\u001b[0m\u001b[0mwfamps\u001b[0m\u001b[1;33m,\u001b[0m\u001b[0mbins\u001b[0m\u001b[1;33m=\u001b[0m\u001b[1;36m30\u001b[0m\u001b[1;33m)\u001b[0m\u001b[1;33m\u001b[0m\u001b[0m\n\u001b[0m\u001b[0;32m     10\u001b[0m \u001b[0mpylab\u001b[0m\u001b[1;33m.\u001b[0m\u001b[0msemilogy\u001b[0m\u001b[1;33m(\u001b[0m\u001b[1;33m)\u001b[0m\u001b[1;33m\u001b[0m\u001b[0m\n",
      "\u001b[1;32m/cvmfs/icecube.opensciencegrid.org/py2-v2/RHEL_7_x86_64/lib/python2.7/site-packages/matplotlib/pyplot.pyc\u001b[0m in \u001b[0;36mhist\u001b[1;34m(x, bins, range, normed, weights, cumulative, bottom, histtype, align, orientation, rwidth, log, color, label, stacked, hold, **kwargs)\u001b[0m\n\u001b[0;32m   2894\u001b[0m                       \u001b[0mhisttype\u001b[0m\u001b[1;33m=\u001b[0m\u001b[0mhisttype\u001b[0m\u001b[1;33m,\u001b[0m \u001b[0malign\u001b[0m\u001b[1;33m=\u001b[0m\u001b[0malign\u001b[0m\u001b[1;33m,\u001b[0m \u001b[0morientation\u001b[0m\u001b[1;33m=\u001b[0m\u001b[0morientation\u001b[0m\u001b[1;33m,\u001b[0m\u001b[1;33m\u001b[0m\u001b[0m\n\u001b[0;32m   2895\u001b[0m                       \u001b[0mrwidth\u001b[0m\u001b[1;33m=\u001b[0m\u001b[0mrwidth\u001b[0m\u001b[1;33m,\u001b[0m \u001b[0mlog\u001b[0m\u001b[1;33m=\u001b[0m\u001b[0mlog\u001b[0m\u001b[1;33m,\u001b[0m \u001b[0mcolor\u001b[0m\u001b[1;33m=\u001b[0m\u001b[0mcolor\u001b[0m\u001b[1;33m,\u001b[0m \u001b[0mlabel\u001b[0m\u001b[1;33m=\u001b[0m\u001b[0mlabel\u001b[0m\u001b[1;33m,\u001b[0m\u001b[1;33m\u001b[0m\u001b[0m\n\u001b[1;32m-> 2896\u001b[1;33m                       stacked=stacked, **kwargs)\n\u001b[0m\u001b[0;32m   2897\u001b[0m         \u001b[0mdraw_if_interactive\u001b[0m\u001b[1;33m(\u001b[0m\u001b[1;33m)\u001b[0m\u001b[1;33m\u001b[0m\u001b[0m\n\u001b[0;32m   2898\u001b[0m     \u001b[1;32mfinally\u001b[0m\u001b[1;33m:\u001b[0m\u001b[1;33m\u001b[0m\u001b[0m\n",
      "\u001b[1;32m/cvmfs/icecube.opensciencegrid.org/py2-v2/RHEL_7_x86_64/lib/python2.7/site-packages/matplotlib/axes/_axes.pyc\u001b[0m in \u001b[0;36mhist\u001b[1;34m(self, x, bins, range, normed, weights, cumulative, bottom, histtype, align, orientation, rwidth, log, color, label, stacked, **kwargs)\u001b[0m\n\u001b[0;32m   5595\u001b[0m         \u001b[0mflat\u001b[0m \u001b[1;33m=\u001b[0m \u001b[0mnp\u001b[0m\u001b[1;33m.\u001b[0m\u001b[0mravel\u001b[0m\u001b[1;33m(\u001b[0m\u001b[0mx\u001b[0m\u001b[1;33m)\u001b[0m\u001b[1;33m\u001b[0m\u001b[0m\n\u001b[0;32m   5596\u001b[0m         \u001b[1;32mif\u001b[0m \u001b[0mlen\u001b[0m\u001b[1;33m(\u001b[0m\u001b[0mflat\u001b[0m\u001b[1;33m)\u001b[0m \u001b[1;33m==\u001b[0m \u001b[1;36m0\u001b[0m\u001b[1;33m:\u001b[0m\u001b[1;33m\u001b[0m\u001b[0m\n\u001b[1;32m-> 5597\u001b[1;33m             \u001b[1;32mraise\u001b[0m \u001b[0mValueError\u001b[0m\u001b[1;33m(\u001b[0m\u001b[1;34m\"x must have at least one data point\"\u001b[0m\u001b[1;33m)\u001b[0m\u001b[1;33m\u001b[0m\u001b[0m\n\u001b[0m\u001b[0;32m   5598\u001b[0m         \u001b[1;32melif\u001b[0m \u001b[0mlen\u001b[0m\u001b[1;33m(\u001b[0m\u001b[0mflat\u001b[0m\u001b[1;33m)\u001b[0m \u001b[1;33m==\u001b[0m \u001b[1;36m1\u001b[0m \u001b[1;32mand\u001b[0m \u001b[1;32mnot\u001b[0m \u001b[0mbinsgiven\u001b[0m\u001b[1;33m:\u001b[0m\u001b[1;33m\u001b[0m\u001b[0m\n\u001b[0;32m   5599\u001b[0m             raise ValueError(\n",
      "\u001b[1;31mValueError\u001b[0m: x must have at least one data point"
     ]
    },
    {
     "data": {
      "image/png": "[encoded data removed]",
      "text/plain": [
       "<matplotlib.figure.Figure at 0x7f1587641710>"
      ]
     },
     "metadata": {},
     "output_type": "display_data"
    }
   ],
   "source": [
    "wfamps=[]\n",
    "count=0\n",
    "for wfe in Waveforms:\n",
    "    count=count+1\n",
    "    if(count%1000==0):\n",
    "        print(count)\n",
    "    for wf in wfe:\n",
    "        wfamps.append(max(wf))\n",
    "pylab.hist(wfamps,bins=30)\n",
    "pylab.semilogy()"
   ]
  },
  {
   "cell_type": "code",
   "execution_count": 14,
   "metadata": {
    "collapsed": true
   },
   "outputs": [],
   "source": [
    "TimeShifts=[]\n",
    "for tindex in range(0,len(Times)):\n",
    "    StartTime=numpy.min(Times[tindex])\n",
    "    TimeShifts.append((Times[tindex]-StartTime)/BinWidths[tindex])\n",
    "    "
   ]
  },
  {
   "cell_type": "code",
   "execution_count": null,
   "metadata": {
    "collapsed": true
   },
   "outputs": [],
   "source": []
  },
  {
   "cell_type": "code",
   "execution_count": 15,
   "metadata": {
    "collapsed": false,
    "scrolled": true
   },
   "outputs": [
    {
     "ename": "ValueError",
     "evalue": "x must have at least one data point",
     "output_type": "error",
     "traceback": [
      "\u001b[1;31m---------------------------------------------------------------------------\u001b[0m",
      "\u001b[1;31mValueError\u001b[0m                                Traceback (most recent call last)",
      "\u001b[1;32m<ipython-input-15-b4c9baf2c660>\u001b[0m in \u001b[0;36m<module>\u001b[1;34m()\u001b[0m\n\u001b[0;32m      1\u001b[0m \u001b[0mTimesFlat\u001b[0m\u001b[1;33m=\u001b[0m\u001b[1;33m[\u001b[0m\u001b[0mitem\u001b[0m \u001b[1;32mfor\u001b[0m \u001b[0msublist\u001b[0m \u001b[1;32min\u001b[0m \u001b[0mTimes\u001b[0m \u001b[1;32mfor\u001b[0m \u001b[0mitem\u001b[0m \u001b[1;32min\u001b[0m \u001b[0msublist\u001b[0m\u001b[1;33m]\u001b[0m\u001b[1;33m\u001b[0m\u001b[0m\n\u001b[0;32m      2\u001b[0m \u001b[0mChargesFlat\u001b[0m\u001b[1;33m=\u001b[0m\u001b[1;33m[\u001b[0m\u001b[0mitem\u001b[0m \u001b[1;32mfor\u001b[0m \u001b[0msublist\u001b[0m \u001b[1;32min\u001b[0m \u001b[0mCharges\u001b[0m \u001b[1;32mfor\u001b[0m \u001b[0mitem\u001b[0m \u001b[1;32min\u001b[0m \u001b[0msublist\u001b[0m\u001b[1;33m]\u001b[0m\u001b[1;33m\u001b[0m\u001b[0m\n\u001b[1;32m----> 3\u001b[1;33m \u001b[0mpylab\u001b[0m\u001b[1;33m.\u001b[0m\u001b[0mhist\u001b[0m\u001b[1;33m(\u001b[0m\u001b[0mTimesFlat\u001b[0m\u001b[1;33m,\u001b[0m \u001b[0mweights\u001b[0m\u001b[1;33m=\u001b[0m\u001b[0mChargesFlat\u001b[0m\u001b[1;33m,\u001b[0m\u001b[0mbins\u001b[0m\u001b[1;33m=\u001b[0m\u001b[0mnumpy\u001b[0m\u001b[1;33m.\u001b[0m\u001b[0marange\u001b[0m\u001b[1;33m(\u001b[0m\u001b[1;36m9500\u001b[0m\u001b[1;33m,\u001b[0m\u001b[1;36m11000\u001b[0m\u001b[1;33m,\u001b[0m\u001b[1;36m1\u001b[0m\u001b[1;33m)\u001b[0m\u001b[1;33m)\u001b[0m\u001b[1;33m\u001b[0m\u001b[0m\n\u001b[0m\u001b[0;32m      4\u001b[0m \u001b[1;33m\u001b[0m\u001b[0m\n\u001b[0;32m      5\u001b[0m \u001b[0mpylab\u001b[0m\u001b[1;33m.\u001b[0m\u001b[0mshow\u001b[0m\u001b[1;33m(\u001b[0m\u001b[1;33m)\u001b[0m\u001b[1;33m\u001b[0m\u001b[0m\n",
      "\u001b[1;32m/cvmfs/icecube.opensciencegrid.org/py2-v2/RHEL_7_x86_64/lib/python2.7/site-packages/matplotlib/pyplot.pyc\u001b[0m in \u001b[0;36mhist\u001b[1;34m(x, bins, range, normed, weights, cumulative, bottom, histtype, align, orientation, rwidth, log, color, label, stacked, hold, **kwargs)\u001b[0m\n\u001b[0;32m   2894\u001b[0m                       \u001b[0mhisttype\u001b[0m\u001b[1;33m=\u001b[0m\u001b[0mhisttype\u001b[0m\u001b[1;33m,\u001b[0m \u001b[0malign\u001b[0m\u001b[1;33m=\u001b[0m\u001b[0malign\u001b[0m\u001b[1;33m,\u001b[0m \u001b[0morientation\u001b[0m\u001b[1;33m=\u001b[0m\u001b[0morientation\u001b[0m\u001b[1;33m,\u001b[0m\u001b[1;33m\u001b[0m\u001b[0m\n\u001b[0;32m   2895\u001b[0m                       \u001b[0mrwidth\u001b[0m\u001b[1;33m=\u001b[0m\u001b[0mrwidth\u001b[0m\u001b[1;33m,\u001b[0m \u001b[0mlog\u001b[0m\u001b[1;33m=\u001b[0m\u001b[0mlog\u001b[0m\u001b[1;33m,\u001b[0m \u001b[0mcolor\u001b[0m\u001b[1;33m=\u001b[0m\u001b[0mcolor\u001b[0m\u001b[1;33m,\u001b[0m \u001b[0mlabel\u001b[0m\u001b[1;33m=\u001b[0m\u001b[0mlabel\u001b[0m\u001b[1;33m,\u001b[0m\u001b[1;33m\u001b[0m\u001b[0m\n\u001b[1;32m-> 2896\u001b[1;33m                       stacked=stacked, **kwargs)\n\u001b[0m\u001b[0;32m   2897\u001b[0m         \u001b[0mdraw_if_interactive\u001b[0m\u001b[1;33m(\u001b[0m\u001b[1;33m)\u001b[0m\u001b[1;33m\u001b[0m\u001b[0m\n\u001b[0;32m   2898\u001b[0m     \u001b[1;32mfinally\u001b[0m\u001b[1;33m:\u001b[0m\u001b[1;33m\u001b[0m\u001b[0m\n",
      "\u001b[1;32m/cvmfs/icecube.opensciencegrid.org/py2-v2/RHEL_7_x86_64/lib/python2.7/site-packages/matplotlib/axes/_axes.pyc\u001b[0m in \u001b[0;36mhist\u001b[1;34m(self, x, bins, range, normed, weights, cumulative, bottom, histtype, align, orientation, rwidth, log, color, label, stacked, **kwargs)\u001b[0m\n\u001b[0;32m   5595\u001b[0m         \u001b[0mflat\u001b[0m \u001b[1;33m=\u001b[0m \u001b[0mnp\u001b[0m\u001b[1;33m.\u001b[0m\u001b[0mravel\u001b[0m\u001b[1;33m(\u001b[0m\u001b[0mx\u001b[0m\u001b[1;33m)\u001b[0m\u001b[1;33m\u001b[0m\u001b[0m\n\u001b[0;32m   5596\u001b[0m         \u001b[1;32mif\u001b[0m \u001b[0mlen\u001b[0m\u001b[1;33m(\u001b[0m\u001b[0mflat\u001b[0m\u001b[1;33m)\u001b[0m \u001b[1;33m==\u001b[0m \u001b[1;36m0\u001b[0m\u001b[1;33m:\u001b[0m\u001b[1;33m\u001b[0m\u001b[0m\n\u001b[1;32m-> 5597\u001b[1;33m             \u001b[1;32mraise\u001b[0m \u001b[0mValueError\u001b[0m\u001b[1;33m(\u001b[0m\u001b[1;34m\"x must have at least one data point\"\u001b[0m\u001b[1;33m)\u001b[0m\u001b[1;33m\u001b[0m\u001b[0m\n\u001b[0m\u001b[0;32m   5598\u001b[0m         \u001b[1;32melif\u001b[0m \u001b[0mlen\u001b[0m\u001b[1;33m(\u001b[0m\u001b[0mflat\u001b[0m\u001b[1;33m)\u001b[0m \u001b[1;33m==\u001b[0m \u001b[1;36m1\u001b[0m \u001b[1;32mand\u001b[0m \u001b[1;32mnot\u001b[0m \u001b[0mbinsgiven\u001b[0m\u001b[1;33m:\u001b[0m\u001b[1;33m\u001b[0m\u001b[0m\n\u001b[0;32m   5599\u001b[0m             raise ValueError(\n",
      "\u001b[1;31mValueError\u001b[0m: x must have at least one data point"
     ]
    },
    {
     "data": {
      "image/png": "[encoded data removed]",
      "text/plain": [
       "<matplotlib.figure.Figure at 0x7f157c5d1150>"
      ]
     },
     "metadata": {},
     "output_type": "display_data"
    }
   ],
   "source": [
    "TimesFlat=[item for sublist in Times for item in sublist]\n",
    "ChargesFlat=[item for sublist in Charges for item in sublist]\n",
    "pylab.hist(TimesFlat, weights=ChargesFlat,bins=numpy.arange(9500,11000,1))\n",
    "\n",
    "pylab.show()"
   ]
  },
  {
   "cell_type": "code",
   "execution_count": 16,
   "metadata": {
    "collapsed": false
   },
   "outputs": [
    {
     "name": "stdout",
     "output_type": "stream",
     "text": [
      "0 0\n",
      "0 0\n",
      "0 0\n",
      "0 0\n",
      "0 0\n",
      "0 0\n",
      "0 0\n",
      "0 0\n",
      "0 0\n"
     ]
    },
    {
     "name": "stderr",
     "output_type": "stream",
     "text": [
      "/cvmfs/icecube.opensciencegrid.org/py2-v2/RHEL_7_x86_64/lib/python2.7/site-packages/IPython/kernel/__main__.py:29: RuntimeWarning: invalid value encountered in true_divide\n"
     ]
    }
   ],
   "source": [
    "therange=numpy.arange(0,128)\n",
    "\n",
    "W_Normd=[]\n",
    "W_Sum=[]\n",
    "\n",
    "ylimlo=-40\n",
    "ylimhi=120\n",
    "\n",
    "\n",
    "DistanceLims=numpy.arange(0,250,25)\n",
    "AveWFs=[]\n",
    "for dis in range(0,len(DistanceLims)-1):\n",
    "    NWF=0\n",
    "    TotCharge=0\n",
    "    WFLength=500\n",
    "    AveWF=numpy.zeros(WFLength)\n",
    "\n",
    "    for i in range(0,len(Waveforms)):\n",
    "        for j in range(0,len(Waveforms[i])):\n",
    "            if(DistanceLims[dis]<Distances[i][j] and DistanceLims[dis+1]>Distances[i][j]) and len(Waveforms[i][j])==128:\n",
    "                Shift=int(TimeShifts[i][j])\n",
    "                if(Shift<WFLength):\n",
    "                    Charge=0\n",
    "                    for w in range(0,min(128,(WFLength-Shift))):\n",
    "                        AveWF[w+Shift]+=numpy.array(Waveforms[i][j][w])\n",
    "                        Charge+=Waveforms[i][j][w]\n",
    "                    TotCharge+=Charge\n",
    "                    NWF+=1\n",
    "    AveWFs.append(AveWF/TotCharge)\n",
    "\n",
    "    print(NWF,TotCharge)\n",
    "    \n"
   ]
  },
  {
   "cell_type": "code",
   "execution_count": null,
   "metadata": {
    "collapsed": true
   },
   "outputs": [],
   "source": []
  },
  {
   "cell_type": "code",
   "execution_count": null,
   "metadata": {
    "collapsed": true
   },
   "outputs": [],
   "source": [
    "pylab.figure(figsize=(5,5))\n",
    "for i in range(0,5):\n",
    "    pylab.plot(therange, AveWFs[i],label=\"{\"+str(DistanceLims[i])+\",\"+str(DistanceLims[i+1])+\"} m\")\n",
    "pylab.legend(loc='lower center',title='Distance Range',fontsize=12)\n",
    "pylab.xlabel(\"Time / ticks\")\n",
    "pylab.ylabel(\"Ave calibrated pulse\")\n",
    "pylab.xlim(0,128)\n",
    "pylab.show()\n",
    "\n",
    "pylab.figure(figsize=(5,5))\n",
    "for i in range(5,10):\n",
    "    pylab.plot(therange, AveWFs[i],label=\"{\"+str(DistanceLims[i])+\",\"+str(DistanceLims[i+1])+\"} m\")\n",
    "pylab.legend(loc='lower center',title='Distance Range',fontsize=12)\n",
    "pylab.xlim(0,128)\n",
    "pylab.xlabel(\"Time / ticks\")\n",
    "pylab.ylabel(\"Ave calibrated pulse\")\n",
    "pylab.show()\n",
    "\n",
    "pylab.figure(figsize=(5,5))\n",
    "for i in range(10,15):\n",
    "    pylab.plot(therange, AveWFs[i],label=\"{\"+str(DistanceLims[i])+\",\"+str(DistanceLims[i+1])+\"} m\")\n",
    "pylab.legend(loc='lower center',title='Distance Range',fontsize=12)\n",
    "pylab.xlim(0,128)\n",
    "pylab.xlabel(\"Time / ticks\")\n",
    "pylab.ylabel(\"Ave calibrated pulse\")\n",
    "pylab.show()\n",
    "\n",
    "pylab.figure(figsize=(5,5))\n",
    "for i in range(15,20):\n",
    "    pylab.plot(therange, AveWFs[i],label=\"{\"+str(DistanceLims[i])+\",\"+str(DistanceLims[i+1])+\"} m\")\n",
    "pylab.legend(loc='lower center',title='Distance Range',fontsize=12)\n",
    "pylab.xlim(0,128)\n",
    "pylab.xlabel(\"Time / ticks\")\n",
    "\n",
    "pylab.ylabel(\"Ave calibrated pulse\")\n",
    "pylab.show()"
   ]
  },
  {
   "cell_type": "code",
   "execution_count": null,
   "metadata": {
    "collapsed": true
   },
   "outputs": [],
   "source": [
    "WFDictionary={}\n",
    "AveWFs[0]=AveWFs[1]\n",
    "for i in range(0, len(AveWFs)):\n",
    "    WFDictionary[DistanceLims[i]]=AveWFs[i]\n",
    "    "
   ]
  },
  {
   "cell_type": "code",
   "execution_count": null,
   "metadata": {
    "collapsed": true
   },
   "outputs": [],
   "source": [
    "import cPickle\n",
    "KernelsFile=open(\"DOMKernelsATWD.dat\",'w')\n",
    "cPickle.dump(WFDictionary,KernelsFile)\n",
    "KernelsFile.close()"
   ]
  },
  {
   "cell_type": "code",
   "execution_count": null,
   "metadata": {
    "collapsed": true
   },
   "outputs": [],
   "source": [
    "DonglianParams=[\"Amp1\",\"Amp2\",\"AmpTrailing\",\"BinsToT1\",\"BinsToT2\",\"BinsTbT\"]\n",
    "ValuesSI={}\n",
    "ValuesBG={}\n",
    "\n",
    "for i in DonglianParams:\n",
    "    ValuesSI[i]=[]\n",
    "    ValuesBG[i]=[]\n",
    "ValuesBG[\"weight\"]=[]\n",
    "ValuesSI[\"weight\"]=[]\n"
   ]
  },
  {
   "cell_type": "code",
   "execution_count": null,
   "metadata": {
    "collapsed": true
   },
   "outputs": [],
   "source": [
    "Count=0\n",
    "NoCascadesSI=0\n",
    "for signalFile in sigFilesI3:\n",
    "    Count=Count+1\n",
    "    print(\"opening \"+signalFile+\",  \"+str(Count)+\" of \" + str(len(sigFilesI3)))\n",
    "    signalFile=dataio.I3File(sigDir+signalFile)\n",
    "    signalFile.rewind()\n",
    "    while(signalFile.more()):\n",
    "        fr=signalFile.pop_physics()\n",
    "        WeightDict=fr.Get(\"I3MCWeightDict\")\n",
    "        if not fr.Has(\"CascadeLlhVertexFit\"):\n",
    "            NoCascadesSI=NoCascadesSI+1\n",
    "            continue\n",
    "\n",
    "        csc=fr.Get('CascadeLlhVertexFit')\n",
    "        cscpos=csc.pos\n",
    "        Weight=(365*24*3600)*1.0e-8*pow(WeightDict[\"PrimaryNeutrinoEnergy\"], -2)*WeightDict[\"OneWeight\"]/(WeightDict[\"NEvents\"]*len(sigFilesI3))\n",
    "        if fr==None:\n",
    "            break\n",
    "        OMs=fr.Get(\"DP_OMs\")\n",
    "        for c in range(0,len(OMs)):\n",
    "            o=OMs[c]\n",
    "            DOMPos=geo.omgeo[o].position\n",
    "            if((DOMPos-cscpos).r<75):\n",
    "                for i in DonglianParams:\n",
    "                    ValuesSI[i].append(fr.Get(i)[c])\n",
    "                ValuesSI[\"weight\"].append(Weight)"
   ]
  },
  {
   "cell_type": "code",
   "execution_count": null,
   "metadata": {
    "collapsed": true
   },
   "outputs": [],
   "source": [
    "\n",
    "Count=0    \n",
    "NoCascadesBG=0\n",
    "for bgFile in bgFilesI3:\n",
    "    Count=Count+1\n",
    "    print(\"opening \"+bgFile+\",  \"+str(Count)+\" of \" + str(len(bgFilesI3)))\n",
    "    bgFile=dataio.I3File(bgDir+bgFile)\n",
    "    bgFile.rewind()\n",
    "    while(bgFile.more()):\n",
    "        fr=bgFile.pop_physics()\n",
    "        WeightDict=fr.Get(\"I3MCWeightDict\")\n",
    "        if not fr.Has(\"CascadeLlhVertexFit\"):\n",
    "            NoCascadesBG=NoCascadesBG+1\n",
    "            continue\n",
    "        csc=fr.Get('CascadeLlhVertexFit')\n",
    "        cscpos=csc.pos\n",
    "        Weight=(365*24*3600)*1.0e-8*pow(WeightDict[\"PrimaryNeutrinoEnergy\"], -2)*WeightDict[\"OneWeight\"]/(WeightDict[\"NEvents\"]*len(sigFilesI3))\n",
    "        if fr==None:\n",
    "            break\n",
    "        OMs=fr.Get(\"DP_OMs\")\n",
    "        for c in range(0,len(OMs)):\n",
    "            o=OMs[c]\n",
    "            DOMPos=geo.omgeo[o].position\n",
    "            if((DOMPos-cscpos).r<150):\n",
    "                for i in DonglianParams:\n",
    "                    ValuesBG[i].append(fr.Get(i)[c])\n",
    "                ValuesBG[\"weight\"].append(Weight)\n"
   ]
  },
  {
   "cell_type": "code",
   "execution_count": null,
   "metadata": {
    "collapsed": true
   },
   "outputs": [],
   "source": [
    "pylab.figure(figsize=(5,5))\n",
    "\n",
    "MaxAmp1SI=[]\n",
    "MaxAmp1BG=[]\n",
    "for i in ValuesSI[\"Amp1\"]:\n",
    "    MaxAmp1SI.append(numpy.max(i))\n",
    "for i in ValuesBG[\"Amp1\"]:\n",
    "    MaxAmp1BG.append(numpy.max(i))\n",
    "\n",
    "\n",
    "\n",
    "pylab.hist(MaxAmp1BG,weights=ValuesBG[\"weight\"],histtype='step',color='red')\n",
    "pylab.hist(MaxAmp1SI,weights=ValuesSI[\"weight\"],histtype='step',color='blue')\n",
    "pylab.ylim(1e-1,1e4)\n",
    "pylab.semilogy()\n",
    "pylab.show()\n",
    "\n",
    "\n"
   ]
  },
  {
   "cell_type": "code",
   "execution_count": null,
   "metadata": {
    "collapsed": true
   },
   "outputs": [],
   "source": [
    "FlattenedSI={}\n",
    "FlattenedBG={}\n",
    "\n",
    "for i in DonglianParams:\n",
    "    FlattenedSI[i]=[]\n",
    "    for j in ValuesSI[i]:\n",
    "        FlattenedSI[i]+=j\n",
    "FlattenedSI[\"weights\"]=[]\n",
    "for j in ValuesSI[\"Amp1\"]:\n",
    "    Weights=numpy.ones_like(j).tolist()\n",
    "    FlattenedSI[\"weights\"]+=Weights\n",
    "\n",
    "        \n",
    "for i in DonglianParams:\n",
    "    FlattenedBG[i]=[]\n",
    "    for j in ValuesBG[i]:\n",
    "        FlattenedBG[i]+=j\n",
    "FlattenedBG[\"weights\"]=[]\n",
    "for j in ValuesBG[\"Amp1\"]:\n",
    "    Weights=numpy.ones_like(j).tolist()\n",
    "    FlattenedBG[\"weights\"]+=Weights\n",
    "\n"
   ]
  },
  {
   "cell_type": "code",
   "execution_count": null,
   "metadata": {
    "collapsed": true
   },
   "outputs": [],
   "source": [
    "pylab.hist(numpy.array(FlattenedSI[\"Amp1\"])/numpy.array(FlattenedSI[\"Amp2\"]),weights=FlattenedSI[\"weights\"],histtype='step',bins=numpy.logspace(-15,15,10))\n",
    "pylab.hist(numpy.array(FlattenedBG[\"Amp1\"])/numpy.array(FlattenedBG[\"Amp2\"]),weights=FlattenedBG[\"weights\"],histtype='step',bins=numpy.logspace(-15,15,10))\n",
    "pylab.loglog()"
   ]
  },
  {
   "cell_type": "code",
   "execution_count": null,
   "metadata": {
    "collapsed": true
   },
   "outputs": [],
   "source": []
  },
  {
   "cell_type": "code",
   "execution_count": null,
   "metadata": {
    "collapsed": true
   },
   "outputs": [],
   "source": [
    "csc.pos.x"
   ]
  },
  {
   "cell_type": "code",
   "execution_count": null,
   "metadata": {
    "collapsed": true
   },
   "outputs": [],
   "source": [
    "for i in DonglianParams:\n",
    "    f, axarr = pylab.subplots(1, 2,figsize=(10,5))\n",
    "    print(i)\n",
    "    h1,bins,non=axarr[0].hist(FlattenedSI[i],weights=FlattenedSI[\"weights\"],bins=50,histtype='step')\n",
    "    h2,bins,non=axarr[0].hist(FlattenedBG[i],weights=FlattenedBG[\"weights\"],bins=bins,histtype='step')\n",
    "    axarr[0].semilogy()\n",
    "    axarr[1].plot(bins[:-1],numpy.array(h2)/numpy.array(h1),'.',color='red')\n",
    "    axarr[0].set_xlabel(i)\n",
    "    axarr[0].set_ylabel(\"count\")\n",
    "    axarr[1].set_xlabel(i)\n",
    "    axarr[1].set_ylabel(\"ratio, BG/SIG\")\n",
    "\n",
    "    pylab.show()\n",
    "\n",
    "#    pylab.show()\n",
    "#    print(i, min(FlattenedBG[i]),max(FlattenedBG[i]))"
   ]
  },
  {
   "cell_type": "code",
   "execution_count": null,
   "metadata": {
    "collapsed": true
   },
   "outputs": [],
   "source": [
    "ret[]"
   ]
  },
  {
   "cell_type": "code",
   "execution_count": null,
   "metadata": {
    "collapsed": true
   },
   "outputs": [],
   "source": [
    "for i in DonglianParams:\n",
    "    f, axarr = pylab.subplots(1, 2,figsize=(10,5))\n",
    "    print(i)\n",
    "    h1,bins,non=axarr[0].hist(ValuesSI[i],weights=numpy.array(ValuesSI[\"weight\"])/sum(ValuesSI[\"weight\"]),bins=500,histtype='step',cumulative=True)\n",
    "    h2,bins,non=axarr[0].hist(ValuesBG[i],weights=numpy.array(ValuesBG[\"weight\"])/sum(ValuesBG[\"weight\"]),bins=bins,histtype='step',cumulative=True)\n",
    "#    axarr[0].semilogx()\n",
    "    axarr[1].plot(bins[:-1],numpy.array(h2)/numpy.array(h1),'.',color='red')\n",
    "    axarr[0].set_xlabel(i)\n",
    "    axarr[0].set_ylabel(\"count\")\n",
    "    axarr[1].set_xlabel(i)\n",
    "    axarr[1].set_ylabel(\"ratio, BG/SIG\")\n",
    "    pylab.show()\n",
    "    f, axarr = pylab.subplots(1, 2,figsize=(10,5))\n",
    "    print(i)\n",
    "    h1,bins,non=axarr[0].hist(ValuesSI[i],weights=numpy.array(ValuesSI[\"weight\"])/sum(ValuesSI[\"weight\"]),bins=500,histtype='step',cumulative=-1)\n",
    "    h2,bins,non=axarr[0].hist(ValuesBG[i],weights=numpy.array(ValuesBG[\"weight\"])/sum(ValuesBG[\"weight\"]),bins=bins,histtype='step',cumulative=-1)\n",
    "#    axarr[0].semilogx()\n",
    "    axarr[1].plot(bins[:-1],numpy.array(h2)/numpy.array(h1),'.',color='red')\n",
    "    axarr[0].set_xlabel(i)\n",
    "    axarr[0].set_ylabel(\"count\")\n",
    "    axarr[1].set_xlabel(i)\n",
    "    axarr[1].set_ylabel(\"ratio, BG/SIG\")\n",
    "    pylab.show()"
   ]
  },
  {
   "cell_type": "code",
   "execution_count": null,
   "metadata": {
    "collapsed": true
   },
   "outputs": [],
   "source": []
  },
  {
   "cell_type": "code",
   "execution_count": null,
   "metadata": {
    "collapsed": true
   },
   "outputs": [],
   "source": []
  },
  {
   "cell_type": "code",
   "execution_count": null,
   "metadata": {
    "collapsed": true
   },
   "outputs": [],
   "source": []
  }
 ],
 "metadata": {
  "kernelspec": {
   "display_name": "Python 2",
   "language": "python",
   "name": "python2"
  },
  "language_info": {
   "codemirror_mode": {
    "name": "ipython",
    "version": 2
   },
   "file_extension": ".py",
   "mimetype": "text/x-python",
   "name": "python",
   "nbconvert_exporter": "python",
   "pygments_lexer": "ipython2",
   "version": "2.7.10"
  }
 },
 "nbformat": 4,
 "nbformat_minor": 1
}
