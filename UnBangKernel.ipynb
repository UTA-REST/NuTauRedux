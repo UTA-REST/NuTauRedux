{
 "cells": [
  {
   "cell_type": "code",
   "execution_count": 1,
   "metadata": {
    "collapsed": true
   },
   "outputs": [],
   "source": [
    "from __future__ import division, print_function\n",
    "import numpy, pylab, math\n",
    "import icecube\n",
    "from icecube import dataio\n",
    "from icecube import dataclasses\n",
    "from icecube import CascadeVariables\n",
    "import os\n",
    "%matplotlib inline"
   ]
  },
  {
   "cell_type": "code",
   "execution_count": 2,
   "metadata": {
    "collapsed": true
   },
   "outputs": [],
   "source": [
    "gcd=dataio.I3File(\"/data/sim/IceCube/2011/filtered/level2/neutrino-generator/10099/00000-00999/GeoCalibDetectorStatus_IC86.55697_corrected_V2.i3.gz\")\n"
   ]
  },
  {
   "cell_type": "code",
   "execution_count": 3,
   "metadata": {
    "collapsed": true
   },
   "outputs": [],
   "source": [
    "gcd.rewind()\n",
    "fr=gcd.pop_frame()\n",
    "geo=fr.Get(\"I3Geometry\")\n"
   ]
  },
  {
   "cell_type": "code",
   "execution_count": 9,
   "metadata": {
    "collapsed": false
   },
   "outputs": [],
   "source": [
    "NFiles=1\n",
    "bgFilesI3=[]\n",
    "bgDir=\"/data/user/lwille/dat/2013NuTauComparison/\"\n",
    "\n",
    "bgFiles=os.listdir(bgDir)\n",
    "for i in bgFiles:\n",
    "    if(i.find(\".i3.bz2\")>0):\n",
    "        bgFilesI3.append(i)\n",
    "\n",
    "\n",
    "bgFilesI3=bgFilesI3[0:NFiles]"
   ]
  },
  {
   "cell_type": "code",
   "execution_count": 36,
   "metadata": {
    "collapsed": false
   },
   "outputs": [
    {
     "name": "stdout",
     "output_type": "stream",
     "text": [
      "opening l4_000601-000700.i3.bz2,  1 of 1\n",
      "100\n",
      "200\n",
      "300\n",
      "400\n",
      "500\n",
      "600\n",
      "700\n",
      "800\n",
      "900\n",
      "1000\n",
      "1100\n"
     ]
    }
   ],
   "source": [
    "Count=0    \n",
    "NoCascadesBG=0\n",
    "Distances=[]\n",
    "Waveforms=[]\n",
    "Energies=[]\n",
    "Times=[]\n",
    "Charges=[]\n",
    "MaxWFTimes=[]\n",
    "BinWidths=[]\n",
    "\n",
    "EnergyLimLow=5e3\n",
    "EnergyLimHigh=1e5\n",
    "\n",
    "for bgFile in bgFilesI3:\n",
    "    Count=Count+1\n",
    "    print(\"opening \"+bgFile+\",  \"+str(Count)+\" of \" + str(len(bgFilesI3)))\n",
    "    bgFile=dataio.I3File(bgDir+bgFile)\n",
    "    bgFile.rewind()\n",
    "    numevents=0\n",
    "    while(bgFile.more()):\n",
    "        #pop a frame\n",
    "        numevents=numevents+1\n",
    "        if(numevents%100==0):\n",
    "            print(numevents)\n",
    "        fr=bgFile.pop_physics()\n",
    "\n",
    "        #grab the weight dict and event weight\n",
    "        WeightDict=fr.Get(\"I3MCWeightDict\")\n",
    "        Weight=(365*24*3600)*1.0e-8*pow(WeightDict[\"PrimaryNeutrinoEnergy\"], -2)*WeightDict[\"OneWeight\"]/(WeightDict[\"NEvents\"]*len(bgFilesI3))\n",
    "\n",
    "        #Find the cascade center\n",
    "        if not fr.Has(\"CascadeLlhVertexFit_L2\") :\n",
    "            NoCascadesBG=NoCascadesBG+1\n",
    "            continue\n",
    "\n",
    "        if( WeightDict[\"PrimaryNeutrinoEnergy\"]<EnergyLimLow) or (WeightDict[\"PrimaryNeutrinoEnergy\"]>EnergyLimHigh):    \n",
    "            continue\n",
    "        csc=fr.Get('CascadeLlhVertexFit_L2')\n",
    "        cscpos=csc.pos\n",
    "\n",
    "        #Get the waveforms\n",
    "#        rd=fr.Get('In')\n",
    "        wf=fr.Get('CalibratedWaveformsHLCATWD')\n",
    "        DistancesThisEvt=[]\n",
    "        WaveformsThisEvt=[]\n",
    "        EnergiesThisEvt=[]\n",
    "        TimesThisEvt=[]\n",
    "        ChargesThisEvt=[]\n",
    "        BinWidthsThisEvt=[]\n",
    "        for om, wf_series in wf:\n",
    "            for w in wf_series:\n",
    "                if(w.status==0):\n",
    "                    DOMPos=geo.omgeo[om].position\n",
    "                    DistancesThisEvt.append((cscpos-DOMPos).r)\n",
    "                    WaveformsThisEvt.append(w.waveform)\n",
    "                    TimesThisEvt.append(w.time)\n",
    "                    ChargesThisEvt.append(sum(w.waveform))\n",
    "                    BinWidthsThisEvt.append(w.bin_width)\n",
    "                    break\n",
    "            Energies.append(csc.energy)\n",
    "            Distances.append(DistancesThisEvt)\n",
    "            Waveforms.append(WaveformsThisEvt)\n",
    "            Charges.append(ChargesThisEvt)\n",
    "            Times.append(TimesThisEvt)\n",
    "            BinWidths.append(BinWidthsThisEvt)\n",
    "            MaxWFTimes.append(TimesThisEvt[numpy.argmax(ChargesThisEvt)])\n",
    "\n",
    "            "
   ]
  },
  {
   "cell_type": "code",
   "execution_count": 37,
   "metadata": {
    "collapsed": false
   },
   "outputs": [
    {
     "name": "stdout",
     "output_type": "stream",
     "text": [
      "1000\n",
      "2000\n",
      "3000\n",
      "4000\n",
      "5000\n",
      "6000\n",
      "7000\n",
      "8000\n",
      "9000\n",
      "10000\n",
      "11000\n",
      "12000\n",
      "13000\n",
      "14000\n",
      "15000\n",
      "16000\n",
      "17000\n",
      "18000\n",
      "19000\n",
      "20000\n",
      "21000\n",
      "22000\n",
      "23000\n",
      "24000\n",
      "25000\n",
      "26000\n",
      "27000\n",
      "28000\n",
      "29000\n",
      "30000\n",
      "31000\n",
      "32000\n",
      "33000\n",
      "34000\n",
      "35000\n",
      "36000\n",
      "37000\n",
      "38000\n",
      "39000\n",
      "40000\n",
      "41000\n",
      "42000\n",
      "43000\n",
      "44000\n",
      "45000\n",
      "46000\n"
     ]
    },
    {
     "data": {
      "text/plain": [
       "[]"
      ]
     },
     "execution_count": 37,
     "metadata": {},
     "output_type": "execute_result"
    },
    {
     "data": {
      "image/png": "[encoded data removed]",
      "text/plain": [
       "<matplotlib.figure.Figure at 0x7f157c449290>"
      ]
     },
     "metadata": {},
     "output_type": "display_data"
    }
   ],
   "source": [
    "wfamps=[]\n",
    "count=0\n",
    "for wfe in Waveforms:\n",
    "    count=count+1\n",
    "    if(count%1000==0):\n",
    "        print(count)\n",
    "    for wf in wfe:\n",
    "        wfamps.append(max(wf))\n",
    "pylab.hist(wfamps,bins=30)\n",
    "pylab.semilogy()"
   ]
  },
  {
   "cell_type": "code",
   "execution_count": 38,
   "metadata": {
    "collapsed": true
   },
   "outputs": [],
   "source": [
    "TimeShifts=[]\n",
    "for tindex in range(0,len(Times)):\n",
    "    StartTime=numpy.min(Times[tindex])\n",
    "    TimeShifts.append((Times[tindex]-StartTime)/BinWidths[tindex])\n",
    "    "
   ]
  },
  {
   "cell_type": "code",
   "execution_count": 39,
   "metadata": {
    "collapsed": false,
    "scrolled": true
   },
   "outputs": [
    {
     "data": {
      "image/png": "[encoded data removed]",
      "text/plain": [
       "<matplotlib.figure.Figure at 0x7f157c449510>"
      ]
     },
     "metadata": {},
     "output_type": "display_data"
    }
   ],
   "source": [
    "TimesFlat=[item for sublist in Times for item in sublist]\n",
    "ChargesFlat=[item for sublist in Charges for item in sublist]\n",
    "pylab.hist(TimesFlat, weights=ChargesFlat,bins=numpy.arange(9500,11000,1))\n",
    "\n",
    "pylab.show()"
   ]
  },
  {
   "cell_type": "code",
   "execution_count": 44,
   "metadata": {
    "collapsed": false
   },
   "outputs": [
    {
     "name": "stdout",
     "output_type": "stream",
     "text": [
      "616 3.00337264756e-05\n",
      "1784 2.1871110356e-05\n",
      "6674 1.19347512301e-05\n",
      "14518 1.26137928025e-05\n",
      "23455 6.7392878417e-06\n",
      "37987 5.77016663519e-06\n",
      "39140 2.75510971067e-06\n",
      "34015 1.36596671942e-06\n",
      "27855 1.01045221344e-06\n"
     ]
    }
   ],
   "source": [
    "therange=numpy.arange(0,128)\n",
    "\n",
    "W_Normd=[]\n",
    "W_Sum=[]\n",
    "\n",
    "ylimlo=-40\n",
    "ylimhi=120\n",
    "\n",
    "DistanceLims=numpy.arange(0,250,25)\n",
    "AveWFs=[]\n",
    "for dis in range(0,len(DistanceLims)-1):\n",
    "    NWF=0\n",
    "    TotCharge=0\n",
    "    WFLength=500\n",
    "    AveWF=numpy.zeros(WFLength)\n",
    "    count=0\n",
    "\n",
    "\n",
    "    for i in range(0,len(Waveforms)):\n",
    "        count=count+1\n",
    "        if(count==1000):\n",
    "            break\n",
    "        for j in range(0,len(Waveforms[i])):\n",
    "            if(DistanceLims[dis]<Distances[i][j] and DistanceLims[dis+1]>Distances[i][j]) and len(Waveforms[i][j])==128:\n",
    "                Shift=int(TimeShifts[i][j])\n",
    "                if(Shift<WFLength):\n",
    "                    Charge=0\n",
    "                    for w in range(0,min(128,(WFLength-Shift))):\n",
    "                        AveWF[w+Shift]+=numpy.array(Waveforms[i][j][w])\n",
    "                        Charge+=Waveforms[i][j][w]\n",
    "                    TotCharge+=Charge\n",
    "                    NWF+=1\n",
    "    AveWFs.append(AveWF/TotCharge)\n",
    "\n",
    "    print(NWF,TotCharge)\n",
    "    "
   ]
  },
  {
   "cell_type": "code",
   "execution_count": 46,
   "metadata": {
    "collapsed": true
   },
   "outputs": [],
   "source": [
    "WFDictionary={}\n",
    "AveWFs[0]=AveWFs[1]\n",
    "for i in range(0, len(AveWFs)):\n",
    "    WFDictionary[DistanceLims[i]]=AveWFs[i]\n",
    "    "
   ]
  },
  {
   "cell_type": "code",
   "execution_count": 47,
   "metadata": {
    "collapsed": true
   },
   "outputs": [],
   "source": [
    "import cPickle\n",
    "KernelsFile=open(\"DOMKernelsATWD.dat\",'w')\n",
    "cPickle.dump(WFDictionary,KernelsFile)\n",
    "KernelsFile.close()"
   ]
  }
 ],
 "metadata": {
  "kernelspec": {
   "display_name": "Python 2",
   "language": "python",
   "name": "python2"
  },
  "language_info": {
   "codemirror_mode": {
    "name": "ipython",
    "version": 2
   },
   "file_extension": ".py",
   "mimetype": "text/x-python",
   "name": "python",
   "nbconvert_exporter": "python",
   "pygments_lexer": "ipython2",
   "version": "2.7.10"
  }
 },
 "nbformat": 4,
 "nbformat_minor": 1
}
