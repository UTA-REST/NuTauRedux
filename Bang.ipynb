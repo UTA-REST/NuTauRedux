{
 "cells": [
  {
   "cell_type": "code",
   "execution_count": 3,
   "metadata": {
    "collapsed": false
   },
   "outputs": [],
   "source": [
    "from __future__ import division, print_function\n",
    "import numpy, pylab, math\n",
    "import icecube\n",
    "from icecube import dataio\n",
    "from icecube import dataclasses\n",
    "#from icecube import CascadeVariables\n",
    "import os\n",
    "%matplotlib inline"
   ]
  },
  {
   "cell_type": "code",
   "execution_count": 4,
   "metadata": {
    "collapsed": true
   },
   "outputs": [],
   "source": [
    "gcd=dataio.I3File(\"/data/sim/IceCube/2011/filtered/level2/neutrino-generator/10099/00000-00999/GeoCalibDetectorStatus_IC86.55697_corrected_V2.i3.gz\")\n"
   ]
  },
  {
   "cell_type": "code",
   "execution_count": 5,
   "metadata": {
    "collapsed": true
   },
   "outputs": [],
   "source": [
    "numpy.loadtxt?"
   ]
  },
  {
   "cell_type": "code",
   "execution_count": 6,
   "metadata": {
    "collapsed": true
   },
   "outputs": [],
   "source": [
    "gcd.rewind()\n",
    "fr=gcd.pop_frame()\n",
    "geo=fr.Get(\"I3Geometry\")\n"
   ]
  },
  {
   "cell_type": "code",
   "execution_count": null,
   "metadata": {
    "collapsed": true
   },
   "outputs": [],
   "source": []
  },
  {
   "cell_type": "code",
   "execution_count": 7,
   "metadata": {
    "collapsed": false
   },
   "outputs": [
    {
     "ename": "OSError",
     "evalue": "[Errno 2] No such file or directory: '/data/user/dxu/batch/myjobs/EHE/level4a/cc_nutau/10099/outfile_reOP/update_07122016/'",
     "output_type": "error",
     "traceback": [
      "\u001b[1;31m---------------------------------------------------------------------------\u001b[0m",
      "\u001b[1;31mOSError\u001b[0m                                   Traceback (most recent call last)",
      "\u001b[1;32m<ipython-input-7-ef6e3799449b>\u001b[0m in \u001b[0;36m<module>\u001b[1;34m()\u001b[0m\n\u001b[0;32m      2\u001b[0m \u001b[0msigFilesI3\u001b[0m\u001b[1;33m=\u001b[0m\u001b[1;33m[\u001b[0m\u001b[1;33m]\u001b[0m\u001b[1;33m\u001b[0m\u001b[0m\n\u001b[0;32m      3\u001b[0m \u001b[0msigDir\u001b[0m\u001b[1;33m=\u001b[0m\u001b[1;34m\"/data/user/dxu/batch/myjobs/EHE/level4a/cc_nutau/10099/outfile_reOP/update_07122016/\"\u001b[0m\u001b[1;33m\u001b[0m\u001b[0m\n\u001b[1;32m----> 4\u001b[1;33m \u001b[0msigFiles\u001b[0m\u001b[1;33m=\u001b[0m\u001b[0mos\u001b[0m\u001b[1;33m.\u001b[0m\u001b[0mlistdir\u001b[0m\u001b[1;33m(\u001b[0m\u001b[0msigDir\u001b[0m\u001b[1;33m)\u001b[0m\u001b[1;33m\u001b[0m\u001b[0m\n\u001b[0m\u001b[0;32m      5\u001b[0m \u001b[1;32mfor\u001b[0m \u001b[0mi\u001b[0m \u001b[1;32min\u001b[0m \u001b[0msigFiles\u001b[0m\u001b[1;33m:\u001b[0m\u001b[1;33m\u001b[0m\u001b[0m\n\u001b[0;32m      6\u001b[0m     \u001b[1;32mif\u001b[0m\u001b[1;33m(\u001b[0m\u001b[0mi\u001b[0m\u001b[1;33m.\u001b[0m\u001b[0mfind\u001b[0m\u001b[1;33m(\u001b[0m\u001b[1;34m\".i3.bz2\"\u001b[0m\u001b[1;33m)\u001b[0m\u001b[1;33m>\u001b[0m\u001b[1;36m0\u001b[0m\u001b[1;33m)\u001b[0m\u001b[1;33m:\u001b[0m\u001b[1;33m\u001b[0m\u001b[0m\n",
      "\u001b[1;31mOSError\u001b[0m: [Errno 2] No such file or directory: '/data/user/dxu/batch/myjobs/EHE/level4a/cc_nutau/10099/outfile_reOP/update_07122016/'"
     ]
    }
   ],
   "source": [
    "NFiles=11\n",
    "sigFilesI3=[]\n",
    "sigDir=\"/data/user/dxu/batch/myjobs/EHE/level4a/cc_nutau/10099/outfile_reOP/update_07122016/\"\n",
    "sigFiles=os.listdir(sigDir)\n",
    "for i in sigFiles:\n",
    "    if(i.find(\".i3.bz2\")>0):\n",
    "        sigFilesI3.append(i)\n",
    "\n",
    "bgFilesI3=[]\n",
    "bgDir=\"/data/user/dxu/batch/myjobs/EHE/level4a/nc_nutau/10099/outfile_reOP/update_07122016/\"\n",
    "bgFiles=os.listdir(bgDir)\n",
    "for i in bgFiles:\n",
    "    if(i.find(\".i3.bz2\")>0):\n",
    "        bgFilesI3.append(i)\n",
    "\n",
    "\n",
    "sigFilesI3=sigFilesI3[0:NFiles]\n",
    "bgFilesI3=bgFilesI3[0:NFiles]"
   ]
  },
  {
   "cell_type": "code",
   "execution_count": 1,
   "metadata": {
    "collapsed": false
   },
   "outputs": [
    {
     "ename": "NameError",
     "evalue": "name 'bgFilesI3' is not defined",
     "output_type": "error",
     "traceback": [
      "\u001b[1;31m---------------------------------------------------------------------------\u001b[0m",
      "\u001b[1;31mNameError\u001b[0m                                 Traceback (most recent call last)",
      "\u001b[1;32m<ipython-input-1-77fb3bdeba9f>\u001b[0m in \u001b[0;36m<module>\u001b[1;34m()\u001b[0m\n\u001b[0;32m      2\u001b[0m \u001b[0mCount\u001b[0m\u001b[1;33m=\u001b[0m\u001b[1;36m0\u001b[0m\u001b[1;33m\u001b[0m\u001b[0m\n\u001b[0;32m      3\u001b[0m \u001b[0mNoCascadesBG\u001b[0m\u001b[1;33m=\u001b[0m\u001b[1;36m0\u001b[0m\u001b[1;33m\u001b[0m\u001b[0m\n\u001b[1;32m----> 4\u001b[1;33m \u001b[1;32mfor\u001b[0m \u001b[0mbgFile\u001b[0m \u001b[1;32min\u001b[0m \u001b[0mbgFilesI3\u001b[0m\u001b[1;33m:\u001b[0m\u001b[1;33m\u001b[0m\u001b[0m\n\u001b[0m\u001b[0;32m      5\u001b[0m     \u001b[0mCount\u001b[0m\u001b[1;33m=\u001b[0m\u001b[0mCount\u001b[0m\u001b[1;33m+\u001b[0m\u001b[1;36m1\u001b[0m\u001b[1;33m\u001b[0m\u001b[0m\n\u001b[0;32m      6\u001b[0m     \u001b[1;32mprint\u001b[0m\u001b[1;33m(\u001b[0m\u001b[1;34m\"opening \"\u001b[0m\u001b[1;33m+\u001b[0m\u001b[0mbgFile\u001b[0m\u001b[1;33m+\u001b[0m\u001b[1;34m\",  \"\u001b[0m\u001b[1;33m+\u001b[0m\u001b[0mstr\u001b[0m\u001b[1;33m(\u001b[0m\u001b[0mCount\u001b[0m\u001b[1;33m)\u001b[0m\u001b[1;33m+\u001b[0m\u001b[1;34m\" of \"\u001b[0m \u001b[1;33m+\u001b[0m \u001b[0mstr\u001b[0m\u001b[1;33m(\u001b[0m\u001b[0mlen\u001b[0m\u001b[1;33m(\u001b[0m\u001b[0mbgFilesI3\u001b[0m\u001b[1;33m)\u001b[0m\u001b[1;33m)\u001b[0m\u001b[1;33m)\u001b[0m\u001b[1;33m\u001b[0m\u001b[0m\n",
      "\u001b[1;31mNameError\u001b[0m: name 'bgFilesI3' is not defined"
     ]
    }
   ],
   "source": [
    "\n",
    "Count=0    \n",
    "NoCascadesBG=0\n",
    "for bgFile in bgFilesI3:\n",
    "    Count=Count+1\n",
    "    print(\"opening \"+bgFile+\",  \"+str(Count)+\" of \" + str(len(bgFilesI3)))\n",
    "    bgFile=dataio.I3File(bgDir+bgFile)\n",
    "    bgFile.rewind()\n",
    "    while(bgFile.more()):\n",
    "        fr=bgFile.pop_physics()\n",
    "        WeightDict=fr.Get(\"I3MCWeightDict\")\n",
    "        if not fr.Has(\"CascadeLlhVertexFit\"):\n",
    "            NoCascadesBG=NoCascadesBG+1\n",
    "            continue\n",
    "        csc=fr.Get('CascadeLlhVertexFit')\n",
    "        cscpos=csc.pos\n",
    "        Weight=(365*24*3600)*1.0e-8*pow(WeightDict[\"PrimaryNeutrinoEnergy\"], -2)*WeightDict[\"OneWeight\"]/(WeightDict[\"NEvents\"]*len(sigFilesI3))\n",
    "        if fr==None:\n",
    "            break\n",
    "        OMs=fr.Get(\"DP_OMs\")\n",
    "        for c in range(0,len(OMs)):\n",
    "            o=OMs[c]\n",
    "            DOMPos=geo.omgeo[o].position\n",
    "            if((DOMPos-cscpos).r<150):\n",
    "                for i in DonglianParams:\n",
    "                    ValuesBG[i].append(fr.Get(i)[c])\n",
    "                ValuesBG[\"weight\"].append(Weight)\n",
    "\n"
   ]
  },
  {
   "cell_type": "code",
   "execution_count": 39,
   "metadata": {
    "collapsed": false
   },
   "outputs": [
    {
     "data": {
      "text/plain": [
       "'/data/user/dxu/batch/myjobs/EHE/level4a/cc_nutau/10099/outfile_reOP/update_07122016/dp_Level4a_nugen_nutau_IC86.2011.010099.000200.i3.bz2'"
      ]
     },
     "execution_count": 39,
     "metadata": {},
     "output_type": "execute_result"
    }
   ],
   "source": [
    "sigDir+sigFilesI3[0]"
   ]
  },
  {
   "cell_type": "code",
   "execution_count": 40,
   "metadata": {
    "collapsed": true
   },
   "outputs": [],
   "source": [
    "sigfile=dataio.I3File('/data/user/dxu/batch/myjobs/EHE/level4a/cc_nutau/10099/outfile_reOP/dp_Level4a_nugen_nutau_IC86.2011.010099.000200.i3.bz2')\n",
    "fr=sigfile.pop_physics()\n",
    "wf=fr.Get('DoublePulseWaveforms')\n"
   ]
  },
  {
   "cell_type": "code",
   "execution_count": 46,
   "metadata": {
    "collapsed": false
   },
   "outputs": [
    {
     "name": "stdout",
     "output_type": "stream",
     "text": [
      "OMKey(30,24,0)\n",
      "465070.503661\n",
      "time  9888.92369756\n",
      "OMKey(30,25,0)\n",
      "505205.726067\n",
      "time  9859.04337956\n",
      "OMKey(30,26,0)\n",
      "543173.593443\n",
      "time  9869.13210476\n"
     ]
    }
   ],
   "source": [
    "for om, wf_series in wf:\n",
    "    print(om)\n",
    "    FoundIt=False\n",
    "    for w in wf_series:\n",
    "        if(w.status==0):\n",
    "            FoundIt=True\n",
    "            print(sum(w.waveform))\n",
    "            print(\"time \",w.time)\n",
    "        if(FoundIt):\n",
    "            break"
   ]
  },
  {
   "cell_type": "code",
   "execution_count": 17,
   "metadata": {
    "collapsed": true
   },
   "outputs": [],
   "source": [
    "DonglianParams=[\"Amp1\",\"Amp2\",\"AmpTrailing\",\"BinsToT1\",\"BinsToT2\",\"BinsTbT\"]\n",
    "ValuesSI={}\n",
    "ValuesBG={}\n",
    "\n",
    "for i in DonglianParams:\n",
    "    ValuesSI[i]=[]\n",
    "    ValuesBG[i]=[]\n",
    "ValuesBG[\"weight\"]=[]\n",
    "ValuesSI[\"weight\"]=[]\n"
   ]
  },
  {
   "cell_type": "code",
   "execution_count": 18,
   "metadata": {
    "collapsed": false
   },
   "outputs": [
    {
     "name": "stdout",
     "output_type": "stream",
     "text": [
      "opening dp_Level4a_nugen_nutau_IC86.2011.010099.000200.i3.bz2,  1 of 10\n",
      "opening dp_Level4a_nugen_nutau_IC86.2011.010099.000230.i3.bz2,  2 of 10\n"
     ]
    },
    {
     "ename": "KeyboardInterrupt",
     "evalue": "",
     "output_type": "error",
     "traceback": [
      "\u001b[1;31m---------------------------------------------------------------------------\u001b[0m",
      "\u001b[1;31mKeyboardInterrupt\u001b[0m                         Traceback (most recent call last)",
      "\u001b[1;32m<ipython-input-18-a54664d5938e>\u001b[0m in \u001b[0;36m<module>\u001b[1;34m()\u001b[0m\n\u001b[0;32m      7\u001b[0m     \u001b[0msignalFile\u001b[0m\u001b[1;33m.\u001b[0m\u001b[0mrewind\u001b[0m\u001b[1;33m(\u001b[0m\u001b[1;33m)\u001b[0m\u001b[1;33m\u001b[0m\u001b[0m\n\u001b[0;32m      8\u001b[0m     \u001b[1;32mwhile\u001b[0m\u001b[1;33m(\u001b[0m\u001b[0msignalFile\u001b[0m\u001b[1;33m.\u001b[0m\u001b[0mmore\u001b[0m\u001b[1;33m(\u001b[0m\u001b[1;33m)\u001b[0m\u001b[1;33m)\u001b[0m\u001b[1;33m:\u001b[0m\u001b[1;33m\u001b[0m\u001b[0m\n\u001b[1;32m----> 9\u001b[1;33m         \u001b[0mfr\u001b[0m\u001b[1;33m=\u001b[0m\u001b[0msignalFile\u001b[0m\u001b[1;33m.\u001b[0m\u001b[0mpop_physics\u001b[0m\u001b[1;33m(\u001b[0m\u001b[1;33m)\u001b[0m\u001b[1;33m\u001b[0m\u001b[0m\n\u001b[0m\u001b[0;32m     10\u001b[0m         \u001b[0mWeightDict\u001b[0m\u001b[1;33m=\u001b[0m\u001b[0mfr\u001b[0m\u001b[1;33m.\u001b[0m\u001b[0mGet\u001b[0m\u001b[1;33m(\u001b[0m\u001b[1;34m\"I3MCWeightDict\"\u001b[0m\u001b[1;33m)\u001b[0m\u001b[1;33m\u001b[0m\u001b[0m\n\u001b[0;32m     11\u001b[0m         \u001b[1;32mif\u001b[0m \u001b[1;32mnot\u001b[0m \u001b[0mfr\u001b[0m\u001b[1;33m.\u001b[0m\u001b[0mHas\u001b[0m\u001b[1;33m(\u001b[0m\u001b[1;34m\"CascadeLlhVertexFit\"\u001b[0m\u001b[1;33m)\u001b[0m\u001b[1;33m:\u001b[0m\u001b[1;33m\u001b[0m\u001b[0m\n",
      "\u001b[1;31mKeyboardInterrupt\u001b[0m: "
     ]
    }
   ],
   "source": [
    "Count=0\n",
    "NoCascadesSI=0\n",
    "for signalFile in sigFilesI3:\n",
    "    Count=Count+1\n",
    "    print(\"opening \"+signalFile+\",  \"+str(Count)+\" of \" + str(len(sigFilesI3)))\n",
    "    signalFile=dataio.I3File(sigDir+signalFile)\n",
    "    signalFile.rewind()\n",
    "    while(signalFile.more()):\n",
    "        fr=signalFile.pop_physics()\n",
    "        WeightDict=fr.Get(\"I3MCWeightDict\")\n",
    "        if not fr.Has(\"CascadeLlhVertexFit\"):\n",
    "            NoCascadesSI=NoCascadesSI+1\n",
    "            continue\n",
    "\n",
    "        csc=fr.Get('CascadeLlhVertexFit')\n",
    "        cscpos=csc.pos\n",
    "        Weight=(365*24*3600)*1.0e-8*pow(WeightDict[\"PrimaryNeutrinoEnergy\"], -2)*WeightDict[\"OneWeight\"]/(WeightDict[\"NEvents\"]*len(sigFilesI3))\n",
    "        if fr==None:\n",
    "            break\n",
    "        OMs=fr.Get(\"DP_OMs\")\n",
    "        for c in range(0,len(OMs)):\n",
    "            o=OMs[c]\n",
    "            DOMPos=geo.omgeo[o].position\n",
    "            if((DOMPos-cscpos).r<75):\n",
    "                for i in DonglianParams:\n",
    "                    ValuesSI[i].append(fr.Get(i)[c])\n",
    "                ValuesSI[\"weight\"].append(Weight)"
   ]
  },
  {
   "cell_type": "code",
   "execution_count": null,
   "metadata": {
    "collapsed": true
   },
   "outputs": [],
   "source": [
    "\n",
    "Count=0    \n",
    "NoCascadesBG=0\n",
    "for bgFile in bgFilesI3:\n",
    "    Count=Count+1\n",
    "    print(\"opening \"+bgFile+\",  \"+str(Count)+\" of \" + str(len(bgFilesI3)))\n",
    "    bgFile=dataio.I3File(bgDir+bgFile)\n",
    "    bgFile.rewind()\n",
    "    while(bgFile.more()):\n",
    "        fr=bgFile.pop_physics()\n",
    "        WeightDict=fr.Get(\"I3MCWeightDict\")\n",
    "        if not fr.Has(\"CascadeLlhVertexFit\"):\n",
    "            NoCascadesBG=NoCascadesBG+1\n",
    "            continue\n",
    "        csc=fr.Get('CascadeLlhVertexFit')\n",
    "        cscpos=csc.pos\n",
    "        Weight=(365*24*3600)*1.0e-8*pow(WeightDict[\"PrimaryNeutrinoEnergy\"], -2)*WeightDict[\"OneWeight\"]/(WeightDict[\"NEvents\"]*len(sigFilesI3))\n",
    "        if fr==None:\n",
    "            break\n",
    "        OMs=fr.Get(\"DP_OMs\")\n",
    "        for c in range(0,len(OMs)):\n",
    "            o=OMs[c]\n",
    "            DOMPos=geo.omgeo[o].position\n",
    "            if((DOMPos-cscpos).r<150):\n",
    "                for i in DonglianParams:\n",
    "                    ValuesBG[i].append(fr.Get(i)[c])\n",
    "                ValuesBG[\"weight\"].append(Weight)\n"
   ]
  },
  {
   "cell_type": "code",
   "execution_count": null,
   "metadata": {
    "collapsed": true
   },
   "outputs": [],
   "source": [
    "pylab.figure(figsize=(5,5))\n",
    "\n",
    "MaxAmp1SI=[]\n",
    "MaxAmp1BG=[]\n",
    "for i in ValuesSI[\"Amp1\"]:\n",
    "    MaxAmp1SI.append(numpy.max(i))\n",
    "for i in ValuesBG[\"Amp1\"]:\n",
    "    MaxAmp1BG.append(numpy.max(i))\n",
    "\n",
    "\n",
    "\n",
    "pylab.hist(MaxAmp1BG,weights=ValuesBG[\"weight\"],histtype='step',color='red')\n",
    "pylab.hist(MaxAmp1SI,weights=ValuesSI[\"weight\"],histtype='step',color='blue')\n",
    "pylab.ylim(1e-1,1e4)\n",
    "pylab.semilogy()\n",
    "pylab.show()\n",
    "\n",
    "\n"
   ]
  },
  {
   "cell_type": "code",
   "execution_count": null,
   "metadata": {
    "collapsed": true
   },
   "outputs": [],
   "source": [
    "FlattenedSI={}\n",
    "FlattenedBG={}\n",
    "\n",
    "for i in DonglianParams:\n",
    "    FlattenedSI[i]=[]\n",
    "    for j in ValuesSI[i]:\n",
    "        FlattenedSI[i]+=j\n",
    "FlattenedSI[\"weights\"]=[]\n",
    "for j in ValuesSI[\"Amp1\"]:\n",
    "    Weights=numpy.ones_like(j).tolist()\n",
    "    FlattenedSI[\"weights\"]+=Weights\n",
    "\n",
    "        \n",
    "for i in DonglianParams:\n",
    "    FlattenedBG[i]=[]\n",
    "    for j in ValuesBG[i]:\n",
    "        FlattenedBG[i]+=j\n",
    "FlattenedBG[\"weights\"]=[]\n",
    "for j in ValuesBG[\"Amp1\"]:\n",
    "    Weights=numpy.ones_like(j).tolist()\n",
    "    FlattenedBG[\"weights\"]+=Weights\n",
    "\n"
   ]
  },
  {
   "cell_type": "code",
   "execution_count": null,
   "metadata": {
    "collapsed": true
   },
   "outputs": [],
   "source": [
    "pylab.hist(numpy.array(FlattenedSI[\"Amp1\"])/numpy.array(FlattenedSI[\"Amp2\"]),weights=FlattenedSI[\"weights\"],histtype='step',bins=numpy.logspace(-15,15,10))\n",
    "pylab.hist(numpy.array(FlattenedBG[\"Amp1\"])/numpy.array(FlattenedBG[\"Amp2\"]),weights=FlattenedBG[\"weights\"],histtype='step',bins=numpy.logspace(-15,15,10))\n",
    "pylab.loglog()"
   ]
  },
  {
   "cell_type": "code",
   "execution_count": null,
   "metadata": {
    "collapsed": true
   },
   "outputs": [],
   "source": []
  },
  {
   "cell_type": "code",
   "execution_count": null,
   "metadata": {
    "collapsed": true
   },
   "outputs": [],
   "source": [
    "csc.pos.x"
   ]
  },
  {
   "cell_type": "code",
   "execution_count": null,
   "metadata": {
    "collapsed": true
   },
   "outputs": [],
   "source": [
    "for i in DonglianParams:\n",
    "    f, axarr = pylab.subplots(1, 2,figsize=(10,5))\n",
    "    print(i)\n",
    "    h1,bins,non=axarr[0].hist(FlattenedSI[i],weights=FlattenedSI[\"weights\"],bins=50,histtype='step')\n",
    "    h2,bins,non=axarr[0].hist(FlattenedBG[i],weights=FlattenedBG[\"weights\"],bins=bins,histtype='step')\n",
    "    axarr[0].semilogy()\n",
    "    axarr[1].plot(bins[:-1],numpy.array(h2)/numpy.array(h1),'.',color='red')\n",
    "    axarr[0].set_xlabel(i)\n",
    "    axarr[0].set_ylabel(\"count\")\n",
    "    axarr[1].set_xlabel(i)\n",
    "    axarr[1].set_ylabel(\"ratio, BG/SIG\")\n",
    "\n",
    "    pylab.show()\n",
    "\n",
    "#    pylab.show()\n",
    "#    print(i, min(FlattenedBG[i]),max(FlattenedBG[i]))"
   ]
  },
  {
   "cell_type": "code",
   "execution_count": null,
   "metadata": {
    "collapsed": true
   },
   "outputs": [],
   "source": [
    "ret[]"
   ]
  },
  {
   "cell_type": "code",
   "execution_count": null,
   "metadata": {
    "collapsed": true
   },
   "outputs": [],
   "source": [
    "for i in DonglianParams:\n",
    "    f, axarr = pylab.subplots(1, 2,figsize=(10,5))\n",
    "    print(i)\n",
    "    h1,bins,non=axarr[0].hist(ValuesSI[i],weights=numpy.array(ValuesSI[\"weight\"])/sum(ValuesSI[\"weight\"]),bins=500,histtype='step',cumulative=True)\n",
    "    h2,bins,non=axarr[0].hist(ValuesBG[i],weights=numpy.array(ValuesBG[\"weight\"])/sum(ValuesBG[\"weight\"]),bins=bins,histtype='step',cumulative=True)\n",
    "#    axarr[0].semilogx()\n",
    "    axarr[1].plot(bins[:-1],numpy.array(h2)/numpy.array(h1),'.',color='red')\n",
    "    axarr[0].set_xlabel(i)\n",
    "    axarr[0].set_ylabel(\"count\")\n",
    "    axarr[1].set_xlabel(i)\n",
    "    axarr[1].set_ylabel(\"ratio, BG/SIG\")\n",
    "    pylab.show()\n",
    "    f, axarr = pylab.subplots(1, 2,figsize=(10,5))\n",
    "    print(i)\n",
    "    h1,bins,non=axarr[0].hist(ValuesSI[i],weights=numpy.array(ValuesSI[\"weight\"])/sum(ValuesSI[\"weight\"]),bins=500,histtype='step',cumulative=-1)\n",
    "    h2,bins,non=axarr[0].hist(ValuesBG[i],weights=numpy.array(ValuesBG[\"weight\"])/sum(ValuesBG[\"weight\"]),bins=bins,histtype='step',cumulative=-1)\n",
    "#    axarr[0].semilogx()\n",
    "    axarr[1].plot(bins[:-1],numpy.array(h2)/numpy.array(h1),'.',color='red')\n",
    "    axarr[0].set_xlabel(i)\n",
    "    axarr[0].set_ylabel(\"count\")\n",
    "    axarr[1].set_xlabel(i)\n",
    "    axarr[1].set_ylabel(\"ratio, BG/SIG\")\n",
    "    pylab.show()"
   ]
  },
  {
   "cell_type": "code",
   "execution_count": null,
   "metadata": {
    "collapsed": true
   },
   "outputs": [],
   "source": []
  },
  {
   "cell_type": "code",
   "execution_count": null,
   "metadata": {
    "collapsed": true
   },
   "outputs": [],
   "source": []
  }
 ],
 "metadata": {
  "kernelspec": {
   "display_name": "Python 2",
   "language": "python",
   "name": "python2"
  },
  "language_info": {
   "codemirror_mode": {
    "name": "ipython",
    "version": 2
   },
   "file_extension": ".py",
   "mimetype": "text/x-python",
   "name": "python",
   "nbconvert_exporter": "python",
   "pygments_lexer": "ipython2",
   "version": "2.7.10"
  }
 },
 "nbformat": 4,
 "nbformat_minor": 1
}
