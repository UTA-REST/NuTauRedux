{
 "cells": [
  {
   "cell_type": "code",
   "execution_count": 1,
   "metadata": {
    "collapsed": true
   },
   "outputs": [],
   "source": [
    "from __future__ import division, print_function\n",
    "import numpy, pylab, math\n",
    "\n",
    "import os\n",
    "%matplotlib inline\n"
   ]
  },
  {
   "cell_type": "code",
   "execution_count": 2,
   "metadata": {
    "collapsed": true
   },
   "outputs": [],
   "source": [
    "sigFilesI3=[]\n",
    "sigDir=\"/data/user/dxu/batch/myjobs/EHE/level4a/cc_nutau/10099/outfile_reOP/update_07122016/\"\n",
    "sigFiles=os.listdir(sigDir)\n",
    "for i in sigFiles:\n",
    "    if(i.find(\".i3.bz2\")>0):\n",
    "        sigFilesI3.append(sigDir+str(i))\n",
    "\n",
    "numpy.savetxt(\"SigFiles.txt\",sigFilesI3,fmt=\"%s\")"
   ]
  },
  {
   "cell_type": "code",
   "execution_count": 3,
   "metadata": {
    "collapsed": true
   },
   "outputs": [],
   "source": [
    "\n",
    "bgFilesI3=[]\n",
    "bgDir=\"/data/user/dxu/batch/myjobs/EHE/level4a/nc_nutau/10099/outfile_reOP/update_07122016/\"\n",
    "bgFiles=os.listdir(bgDir)\n",
    "for i in bgFiles:\n",
    "    if(i.find(\".i3.bz2\")>0):\n",
    "        bgFilesI3.append(bgDir+str(i))\n",
    "\n",
    "numpy.savetxt(\"BcgFiles.txt\",bgFilesI3,fmt=\"%s\")"
   ]
  },
  {
   "cell_type": "code",
   "execution_count": null,
   "metadata": {
    "collapsed": false
   },
   "outputs": [],
   "source": []
  },
  {
   "cell_type": "code",
   "execution_count": null,
   "metadata": {
    "collapsed": true
   },
   "outputs": [],
   "source": []
  }
 ],
 "metadata": {
  "kernelspec": {
   "display_name": "Python 2",
   "language": "python",
   "name": "python2"
  },
  "language_info": {
   "codemirror_mode": {
    "name": "ipython",
    "version": 2
   },
   "file_extension": ".py",
   "mimetype": "text/x-python",
   "name": "python",
   "nbconvert_exporter": "python",
   "pygments_lexer": "ipython2",
   "version": "2.7.10"
  }
 },
 "nbformat": 4,
 "nbformat_minor": 0
}
