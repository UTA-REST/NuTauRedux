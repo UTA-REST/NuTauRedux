{
 "cells": [
  {
   "cell_type": "code",
   "execution_count": 1,
   "metadata": {
    "collapsed": true
   },
   "outputs": [],
   "source": [
    "from __future__ import division, print_function\n",
    "import numpy, pylab, math\n",
    "import icecube\n",
    "from icecube import dataio\n",
    "from icecube import dataclasses\n",
    "\n",
    "import os\n",
    "%matplotlib inline"
   ]
  },
  {
   "cell_type": "code",
   "execution_count": 2,
   "metadata": {
    "collapsed": true
   },
   "outputs": [],
   "source": [
    "gcd=dataio.I3File(\"/data/sim/IceCube/2011/filtered/level2/neutrino-generator/10099/00000-00999/GeoCalibDetectorStatus_IC86.55697_corrected_V2.i3.gz\")\n",
    "\n"
   ]
  },
  {
   "cell_type": "code",
   "execution_count": 3,
   "metadata": {
    "collapsed": true
   },
   "outputs": [],
   "source": [
    "gcd.rewind()\n",
    "fr=gcd.pop_frame()\n",
    "geo=fr.Get(\"I3Geometry\")"
   ]
  },
  {
   "cell_type": "code",
   "execution_count": 99,
   "metadata": {
    "collapsed": false
   },
   "outputs": [],
   "source": [
    "type(geo.omgeo.keys()[1])\n",
    "z=[]\n",
    "ivals=range(1, 60)\n",
    "for i in ivals:\n",
    "    z.append(geo.omgeo[icecube.icetray.OMKey(36,i,0)].position.z)\n",
    "ChosenZ=numpy.arange(32,39)\n",
    "ChosenDoms=[]\n",
    "for i in ChosenZ:\n",
    "    ChosenDoms.append(geo.omgeo[icecube.icetray.OMKey(36,i,0)].position.z)\n",
    "\n"
   ]
  },
  {
   "cell_type": "code",
   "execution_count": 100,
   "metadata": {
    "collapsed": false
   },
   "outputs": [
    {
     "data": {
      "text/plain": [
       "([], <a list of 0 Text xticklabel objects>)"
      ]
     },
     "execution_count": 100,
     "metadata": {},
     "output_type": "execute_result"
    },
    {
     "data": {
      "image/png": "[encoded data removed]",
      "text/plain": [
       "<matplotlib.figure.Figure at 0x7f20e2178290>"
      ]
     },
     "metadata": {},
     "output_type": "display_data"
    }
   ],
   "source": [
    "f=pylab.figure(figsize=(7,4.5))\n",
    "pylab.plot(z,ivals,'o',label=\"Dom Positions\",color='green')\n",
    "pylab.plot(ChosenDoms,ChosenZ,'s',label=\"Omit in fit\",color='orange')\n",
    "\n",
    "\n",
    "ax = f.add_subplot(111)\n",
    "\n",
    "\n",
    "ax.yaxis.tick_right()\n",
    "pylab.xlim(-1000,1000)\n",
    "pylab.fill_between([-140,-20],[0,0],[60,60],color='dimgrey',alpha=0.2)\n",
    "ax.legend(loc='upper right',framealpha=1)\n",
    "pylab.xticks([])\n"
   ]
  },
  {
   "cell_type": "code",
   "execution_count": 39,
   "metadata": {
    "collapsed": false
   },
   "outputs": [
    {
     "data": {
      "text/plain": [
       "0"
      ]
     },
     "execution_count": 39,
     "metadata": {},
     "output_type": "execute_result"
    }
   ],
   "source": [
    "i"
   ]
  },
  {
   "cell_type": "code",
   "execution_count": null,
   "metadata": {
    "collapsed": true
   },
   "outputs": [],
   "source": []
  }
 ],
 "metadata": {
  "kernelspec": {
   "display_name": "Python 2",
   "language": "python",
   "name": "python2"
  },
  "language_info": {
   "codemirror_mode": {
    "name": "ipython",
    "version": 2
   },
   "file_extension": ".py",
   "mimetype": "text/x-python",
   "name": "python",
   "nbconvert_exporter": "python",
   "pygments_lexer": "ipython2",
   "version": "2.7.10"
  }
 },
 "nbformat": 4,
 "nbformat_minor": 0
}
